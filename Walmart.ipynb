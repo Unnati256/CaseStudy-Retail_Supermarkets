{
  "cells": [
    {
      "cell_type": "code",
      "execution_count": null,
      "metadata": {
        "id": "ln51ebDY9pv0"
      },
      "outputs": [],
      "source": [
        "# Importing the libraries\n",
        "import numpy as np\n",
        "import pandas as pd\n",
        "import matplotlib.pyplot as plt\n",
        "import seaborn as sns\n",
        "from scipy.stats import norm, t, ttest_ind\n",
        "from scipy.stats import chi2, chi2_contingency\n",
        "from scipy.stats import levene, kruskal\n",
        "\n",
        "import warnings\n",
        "warnings.filterwarnings(\"ignore\")"
      ]
    },
    {
      "cell_type": "code",
      "execution_count": null,
      "metadata": {
        "colab": {
          "base_uri": "https://localhost:8080/",
          "height": 206
        },
        "id": "A0QIE2U9OuEX",
        "outputId": "2b2e30c4-ef76-4503-d09c-68b07184fcbf"
      },
      "outputs": [
        {
          "output_type": "execute_result",
          "data": {
            "text/plain": [
              "   User_ID Product_ID Gender   Age  Occupation City_Category  \\\n",
              "0  1000001  P00069042      F  0-17          10             A   \n",
              "1  1000001  P00248942      F  0-17          10             A   \n",
              "2  1000001  P00087842      F  0-17          10             A   \n",
              "3  1000001  P00085442      F  0-17          10             A   \n",
              "4  1000002  P00285442      M   55+          16             C   \n",
              "\n",
              "  Stay_In_Current_City_Years  Marital_Status  Product_Category  Purchase  \n",
              "0                          2               0                 3      8370  \n",
              "1                          2               0                 1     15200  \n",
              "2                          2               0                12      1422  \n",
              "3                          2               0                12      1057  \n",
              "4                         4+               0                 8      7969  "
            ],
            "text/html": [
              "\n",
              "\n",
              "  <div id=\"df-abfd22b9-fb82-4848-a32b-3866d5cfb344\">\n",
              "    <div class=\"colab-df-container\">\n",
              "      <div>\n",
              "<style scoped>\n",
              "    .dataframe tbody tr th:only-of-type {\n",
              "        vertical-align: middle;\n",
              "    }\n",
              "\n",
              "    .dataframe tbody tr th {\n",
              "        vertical-align: top;\n",
              "    }\n",
              "\n",
              "    .dataframe thead th {\n",
              "        text-align: right;\n",
              "    }\n",
              "</style>\n",
              "<table border=\"1\" class=\"dataframe\">\n",
              "  <thead>\n",
              "    <tr style=\"text-align: right;\">\n",
              "      <th></th>\n",
              "      <th>User_ID</th>\n",
              "      <th>Product_ID</th>\n",
              "      <th>Gender</th>\n",
              "      <th>Age</th>\n",
              "      <th>Occupation</th>\n",
              "      <th>City_Category</th>\n",
              "      <th>Stay_In_Current_City_Years</th>\n",
              "      <th>Marital_Status</th>\n",
              "      <th>Product_Category</th>\n",
              "      <th>Purchase</th>\n",
              "    </tr>\n",
              "  </thead>\n",
              "  <tbody>\n",
              "    <tr>\n",
              "      <th>0</th>\n",
              "      <td>1000001</td>\n",
              "      <td>P00069042</td>\n",
              "      <td>F</td>\n",
              "      <td>0-17</td>\n",
              "      <td>10</td>\n",
              "      <td>A</td>\n",
              "      <td>2</td>\n",
              "      <td>0</td>\n",
              "      <td>3</td>\n",
              "      <td>8370</td>\n",
              "    </tr>\n",
              "    <tr>\n",
              "      <th>1</th>\n",
              "      <td>1000001</td>\n",
              "      <td>P00248942</td>\n",
              "      <td>F</td>\n",
              "      <td>0-17</td>\n",
              "      <td>10</td>\n",
              "      <td>A</td>\n",
              "      <td>2</td>\n",
              "      <td>0</td>\n",
              "      <td>1</td>\n",
              "      <td>15200</td>\n",
              "    </tr>\n",
              "    <tr>\n",
              "      <th>2</th>\n",
              "      <td>1000001</td>\n",
              "      <td>P00087842</td>\n",
              "      <td>F</td>\n",
              "      <td>0-17</td>\n",
              "      <td>10</td>\n",
              "      <td>A</td>\n",
              "      <td>2</td>\n",
              "      <td>0</td>\n",
              "      <td>12</td>\n",
              "      <td>1422</td>\n",
              "    </tr>\n",
              "    <tr>\n",
              "      <th>3</th>\n",
              "      <td>1000001</td>\n",
              "      <td>P00085442</td>\n",
              "      <td>F</td>\n",
              "      <td>0-17</td>\n",
              "      <td>10</td>\n",
              "      <td>A</td>\n",
              "      <td>2</td>\n",
              "      <td>0</td>\n",
              "      <td>12</td>\n",
              "      <td>1057</td>\n",
              "    </tr>\n",
              "    <tr>\n",
              "      <th>4</th>\n",
              "      <td>1000002</td>\n",
              "      <td>P00285442</td>\n",
              "      <td>M</td>\n",
              "      <td>55+</td>\n",
              "      <td>16</td>\n",
              "      <td>C</td>\n",
              "      <td>4+</td>\n",
              "      <td>0</td>\n",
              "      <td>8</td>\n",
              "      <td>7969</td>\n",
              "    </tr>\n",
              "  </tbody>\n",
              "</table>\n",
              "</div>\n",
              "      <button class=\"colab-df-convert\" onclick=\"convertToInteractive('df-abfd22b9-fb82-4848-a32b-3866d5cfb344')\"\n",
              "              title=\"Convert this dataframe to an interactive table.\"\n",
              "              style=\"display:none;\">\n",
              "\n",
              "  <svg xmlns=\"http://www.w3.org/2000/svg\" height=\"24px\"viewBox=\"0 0 24 24\"\n",
              "       width=\"24px\">\n",
              "    <path d=\"M0 0h24v24H0V0z\" fill=\"none\"/>\n",
              "    <path d=\"M18.56 5.44l.94 2.06.94-2.06 2.06-.94-2.06-.94-.94-2.06-.94 2.06-2.06.94zm-11 1L8.5 8.5l.94-2.06 2.06-.94-2.06-.94L8.5 2.5l-.94 2.06-2.06.94zm10 10l.94 2.06.94-2.06 2.06-.94-2.06-.94-.94-2.06-.94 2.06-2.06.94z\"/><path d=\"M17.41 7.96l-1.37-1.37c-.4-.4-.92-.59-1.43-.59-.52 0-1.04.2-1.43.59L10.3 9.45l-7.72 7.72c-.78.78-.78 2.05 0 2.83L4 21.41c.39.39.9.59 1.41.59.51 0 1.02-.2 1.41-.59l7.78-7.78 2.81-2.81c.8-.78.8-2.07 0-2.86zM5.41 20L4 18.59l7.72-7.72 1.47 1.35L5.41 20z\"/>\n",
              "  </svg>\n",
              "      </button>\n",
              "\n",
              "\n",
              "\n",
              "    <div id=\"df-2e534c67-642b-41bf-85b8-1716223ea333\">\n",
              "      <button class=\"colab-df-quickchart\" onclick=\"quickchart('df-2e534c67-642b-41bf-85b8-1716223ea333')\"\n",
              "              title=\"Suggest charts.\"\n",
              "              style=\"display:none;\">\n",
              "\n",
              "<svg xmlns=\"http://www.w3.org/2000/svg\" height=\"24px\"viewBox=\"0 0 24 24\"\n",
              "     width=\"24px\">\n",
              "    <g>\n",
              "        <path d=\"M19 3H5c-1.1 0-2 .9-2 2v14c0 1.1.9 2 2 2h14c1.1 0 2-.9 2-2V5c0-1.1-.9-2-2-2zM9 17H7v-7h2v7zm4 0h-2V7h2v10zm4 0h-2v-4h2v4z\"/>\n",
              "    </g>\n",
              "</svg>\n",
              "      </button>\n",
              "    </div>\n",
              "\n",
              "<style>\n",
              "  .colab-df-quickchart {\n",
              "    background-color: #E8F0FE;\n",
              "    border: none;\n",
              "    border-radius: 50%;\n",
              "    cursor: pointer;\n",
              "    display: none;\n",
              "    fill: #1967D2;\n",
              "    height: 32px;\n",
              "    padding: 0 0 0 0;\n",
              "    width: 32px;\n",
              "  }\n",
              "\n",
              "  .colab-df-quickchart:hover {\n",
              "    background-color: #E2EBFA;\n",
              "    box-shadow: 0px 1px 2px rgba(60, 64, 67, 0.3), 0px 1px 3px 1px rgba(60, 64, 67, 0.15);\n",
              "    fill: #174EA6;\n",
              "  }\n",
              "\n",
              "  [theme=dark] .colab-df-quickchart {\n",
              "    background-color: #3B4455;\n",
              "    fill: #D2E3FC;\n",
              "  }\n",
              "\n",
              "  [theme=dark] .colab-df-quickchart:hover {\n",
              "    background-color: #434B5C;\n",
              "    box-shadow: 0px 1px 3px 1px rgba(0, 0, 0, 0.15);\n",
              "    filter: drop-shadow(0px 1px 2px rgba(0, 0, 0, 0.3));\n",
              "    fill: #FFFFFF;\n",
              "  }\n",
              "</style>\n",
              "\n",
              "    <script>\n",
              "      async function quickchart(key) {\n",
              "        const containerElement = document.querySelector('#' + key);\n",
              "        const charts = await google.colab.kernel.invokeFunction(\n",
              "            'suggestCharts', [key], {});\n",
              "      }\n",
              "    </script>\n",
              "\n",
              "\n",
              "      <script>\n",
              "\n",
              "function displayQuickchartButton(domScope) {\n",
              "  let quickchartButtonEl =\n",
              "    domScope.querySelector('#df-2e534c67-642b-41bf-85b8-1716223ea333 button.colab-df-quickchart');\n",
              "  quickchartButtonEl.style.display =\n",
              "    google.colab.kernel.accessAllowed ? 'block' : 'none';\n",
              "}\n",
              "\n",
              "        displayQuickchartButton(document);\n",
              "      </script>\n",
              "      <style>\n",
              "    .colab-df-container {\n",
              "      display:flex;\n",
              "      flex-wrap:wrap;\n",
              "      gap: 12px;\n",
              "    }\n",
              "\n",
              "    .colab-df-convert {\n",
              "      background-color: #E8F0FE;\n",
              "      border: none;\n",
              "      border-radius: 50%;\n",
              "      cursor: pointer;\n",
              "      display: none;\n",
              "      fill: #1967D2;\n",
              "      height: 32px;\n",
              "      padding: 0 0 0 0;\n",
              "      width: 32px;\n",
              "    }\n",
              "\n",
              "    .colab-df-convert:hover {\n",
              "      background-color: #E2EBFA;\n",
              "      box-shadow: 0px 1px 2px rgba(60, 64, 67, 0.3), 0px 1px 3px 1px rgba(60, 64, 67, 0.15);\n",
              "      fill: #174EA6;\n",
              "    }\n",
              "\n",
              "    [theme=dark] .colab-df-convert {\n",
              "      background-color: #3B4455;\n",
              "      fill: #D2E3FC;\n",
              "    }\n",
              "\n",
              "    [theme=dark] .colab-df-convert:hover {\n",
              "      background-color: #434B5C;\n",
              "      box-shadow: 0px 1px 3px 1px rgba(0, 0, 0, 0.15);\n",
              "      filter: drop-shadow(0px 1px 2px rgba(0, 0, 0, 0.3));\n",
              "      fill: #FFFFFF;\n",
              "    }\n",
              "  </style>\n",
              "\n",
              "      <script>\n",
              "        const buttonEl =\n",
              "          document.querySelector('#df-abfd22b9-fb82-4848-a32b-3866d5cfb344 button.colab-df-convert');\n",
              "        buttonEl.style.display =\n",
              "          google.colab.kernel.accessAllowed ? 'block' : 'none';\n",
              "\n",
              "        async function convertToInteractive(key) {\n",
              "          const element = document.querySelector('#df-abfd22b9-fb82-4848-a32b-3866d5cfb344');\n",
              "          const dataTable =\n",
              "            await google.colab.kernel.invokeFunction('convertToInteractive',\n",
              "                                                     [key], {});\n",
              "          if (!dataTable) return;\n",
              "\n",
              "          const docLinkHtml = 'Like what you see? Visit the ' +\n",
              "            '<a target=\"_blank\" href=https://colab.research.google.com/notebooks/data_table.ipynb>data table notebook</a>'\n",
              "            + ' to learn more about interactive tables.';\n",
              "          element.innerHTML = '';\n",
              "          dataTable['output_type'] = 'display_data';\n",
              "          await google.colab.output.renderOutput(dataTable, element);\n",
              "          const docLink = document.createElement('div');\n",
              "          docLink.innerHTML = docLinkHtml;\n",
              "          element.appendChild(docLink);\n",
              "        }\n",
              "      </script>\n",
              "    </div>\n",
              "  </div>\n"
            ]
          },
          "metadata": {},
          "execution_count": 62
        }
      ],
      "source": [
        "# reading the csv file\n",
        "df = pd.read_csv(\"walmart.csv\")\n",
        "df.head()"
      ]
    },
    {
      "cell_type": "markdown",
      "metadata": {
        "id": "loA7wscHPqOb"
      },
      "source": [
        "## **Exploratory Data Analysis**"
      ]
    },
    {
      "cell_type": "code",
      "execution_count": null,
      "metadata": {
        "colab": {
          "base_uri": "https://localhost:8080/"
        },
        "id": "WifcHLkbO7ip",
        "outputId": "1da8cc64-d259-4a0b-cf42-9b17bf1f42b6"
      },
      "outputs": [
        {
          "output_type": "stream",
          "name": "stdout",
          "text": [
            "<class 'pandas.core.frame.DataFrame'>\n",
            "RangeIndex: 550068 entries, 0 to 550067\n",
            "Data columns (total 10 columns):\n",
            " #   Column                      Non-Null Count   Dtype \n",
            "---  ------                      --------------   ----- \n",
            " 0   User_ID                     550068 non-null  int64 \n",
            " 1   Product_ID                  550068 non-null  object\n",
            " 2   Gender                      550068 non-null  object\n",
            " 3   Age                         550068 non-null  object\n",
            " 4   Occupation                  550068 non-null  int64 \n",
            " 5   City_Category               550068 non-null  object\n",
            " 6   Stay_In_Current_City_Years  550068 non-null  object\n",
            " 7   Marital_Status              550068 non-null  int64 \n",
            " 8   Product_Category            550068 non-null  int64 \n",
            " 9   Purchase                    550068 non-null  int64 \n",
            "dtypes: int64(5), object(5)\n",
            "memory usage: 42.0+ MB\n"
          ]
        }
      ],
      "source": [
        "df.info()"
      ]
    },
    {
      "cell_type": "markdown",
      "metadata": {
        "id": "iQqpVHtpQDxM"
      },
      "source": [
        "**The data does not contain any nulls, thus no need of handling the missing data. We have 550068 rows and 10 columns**"
      ]
    },
    {
      "cell_type": "code",
      "execution_count": null,
      "metadata": {
        "colab": {
          "base_uri": "https://localhost:8080/"
        },
        "id": "t0etKF6MO8TF",
        "outputId": "f1a0da57-fe84-4931-8db9-ccd54d9f3ff8"
      },
      "outputs": [
        {
          "output_type": "execute_result",
          "data": {
            "text/plain": [
              "User_ID                        int64\n",
              "Product_ID                    object\n",
              "Gender                        object\n",
              "Age                           object\n",
              "Occupation                     int64\n",
              "City_Category                 object\n",
              "Stay_In_Current_City_Years    object\n",
              "Marital_Status                 int64\n",
              "Product_Category               int64\n",
              "Purchase                       int64\n",
              "dtype: object"
            ]
          },
          "metadata": {},
          "execution_count": 64
        }
      ],
      "source": [
        "# Checking datatypes\n",
        "df.dtypes"
      ]
    },
    {
      "cell_type": "code",
      "source": [
        "# Converting categorical data types into category\n",
        "df[\"User_ID\"] = df[\"User_ID\"].astype('category')\n",
        "df[\"Product_ID\"] = df[\"Product_ID\"].astype('category')\n",
        "df[\"Gender\"] = df[\"Gender\"].astype('category')\n",
        "df[\"Age\"] = df[\"Age\"].astype('category')\n",
        "df[\"Occupation\"] = df[\"Occupation\"].astype('category')\n",
        "df[\"City_Category\"] = df[\"City_Category\"].astype('category')\n",
        "df[\"Stay_In_Current_City_Years\"] = df[\"Stay_In_Current_City_Years\"].astype('category')\n",
        "df[\"Marital_Status\"] = df[\"Marital_Status\"].astype('category')\n",
        "df[\"Product_Category\"] = df[\"Product_Category\"].astype('category')\n",
        "\n",
        "df.dtypes"
      ],
      "metadata": {
        "colab": {
          "base_uri": "https://localhost:8080/"
        },
        "id": "gf618AoFQzyx",
        "outputId": "e777bd6d-3c25-4d21-a2a0-681e44133295"
      },
      "execution_count": null,
      "outputs": [
        {
          "output_type": "execute_result",
          "data": {
            "text/plain": [
              "User_ID                       category\n",
              "Product_ID                    category\n",
              "Gender                        category\n",
              "Age                           category\n",
              "Occupation                    category\n",
              "City_Category                 category\n",
              "Stay_In_Current_City_Years    category\n",
              "Marital_Status                category\n",
              "Product_Category              category\n",
              "Purchase                         int64\n",
              "dtype: object"
            ]
          },
          "metadata": {},
          "execution_count": 65
        }
      ]
    },
    {
      "cell_type": "code",
      "execution_count": null,
      "metadata": {
        "colab": {
          "base_uri": "https://localhost:8080/",
          "height": 49
        },
        "id": "VX12z6QbPB4H",
        "outputId": "6b5f2127-0a09-4c6b-8649-730726acc8f8"
      },
      "outputs": [
        {
          "output_type": "execute_result",
          "data": {
            "text/plain": [
              "Empty DataFrame\n",
              "Columns: [User_ID, Product_ID, Gender, Age, Occupation, City_Category, Stay_In_Current_City_Years, Marital_Status, Product_Category, Purchase]\n",
              "Index: []"
            ],
            "text/html": [
              "\n",
              "\n",
              "  <div id=\"df-27777a31-0a8d-4d9e-b2b5-61da9fd9ce3d\">\n",
              "    <div class=\"colab-df-container\">\n",
              "      <div>\n",
              "<style scoped>\n",
              "    .dataframe tbody tr th:only-of-type {\n",
              "        vertical-align: middle;\n",
              "    }\n",
              "\n",
              "    .dataframe tbody tr th {\n",
              "        vertical-align: top;\n",
              "    }\n",
              "\n",
              "    .dataframe thead th {\n",
              "        text-align: right;\n",
              "    }\n",
              "</style>\n",
              "<table border=\"1\" class=\"dataframe\">\n",
              "  <thead>\n",
              "    <tr style=\"text-align: right;\">\n",
              "      <th></th>\n",
              "      <th>User_ID</th>\n",
              "      <th>Product_ID</th>\n",
              "      <th>Gender</th>\n",
              "      <th>Age</th>\n",
              "      <th>Occupation</th>\n",
              "      <th>City_Category</th>\n",
              "      <th>Stay_In_Current_City_Years</th>\n",
              "      <th>Marital_Status</th>\n",
              "      <th>Product_Category</th>\n",
              "      <th>Purchase</th>\n",
              "    </tr>\n",
              "  </thead>\n",
              "  <tbody>\n",
              "  </tbody>\n",
              "</table>\n",
              "</div>\n",
              "      <button class=\"colab-df-convert\" onclick=\"convertToInteractive('df-27777a31-0a8d-4d9e-b2b5-61da9fd9ce3d')\"\n",
              "              title=\"Convert this dataframe to an interactive table.\"\n",
              "              style=\"display:none;\">\n",
              "\n",
              "  <svg xmlns=\"http://www.w3.org/2000/svg\" height=\"24px\"viewBox=\"0 0 24 24\"\n",
              "       width=\"24px\">\n",
              "    <path d=\"M0 0h24v24H0V0z\" fill=\"none\"/>\n",
              "    <path d=\"M18.56 5.44l.94 2.06.94-2.06 2.06-.94-2.06-.94-.94-2.06-.94 2.06-2.06.94zm-11 1L8.5 8.5l.94-2.06 2.06-.94-2.06-.94L8.5 2.5l-.94 2.06-2.06.94zm10 10l.94 2.06.94-2.06 2.06-.94-2.06-.94-.94-2.06-.94 2.06-2.06.94z\"/><path d=\"M17.41 7.96l-1.37-1.37c-.4-.4-.92-.59-1.43-.59-.52 0-1.04.2-1.43.59L10.3 9.45l-7.72 7.72c-.78.78-.78 2.05 0 2.83L4 21.41c.39.39.9.59 1.41.59.51 0 1.02-.2 1.41-.59l7.78-7.78 2.81-2.81c.8-.78.8-2.07 0-2.86zM5.41 20L4 18.59l7.72-7.72 1.47 1.35L5.41 20z\"/>\n",
              "  </svg>\n",
              "      </button>\n",
              "\n",
              "\n",
              "\n",
              "    <div id=\"df-671a8579-48d4-435d-a8b1-623ba145f962\">\n",
              "      <button class=\"colab-df-quickchart\" onclick=\"quickchart('df-671a8579-48d4-435d-a8b1-623ba145f962')\"\n",
              "              title=\"Suggest charts.\"\n",
              "              style=\"display:none;\">\n",
              "\n",
              "<svg xmlns=\"http://www.w3.org/2000/svg\" height=\"24px\"viewBox=\"0 0 24 24\"\n",
              "     width=\"24px\">\n",
              "    <g>\n",
              "        <path d=\"M19 3H5c-1.1 0-2 .9-2 2v14c0 1.1.9 2 2 2h14c1.1 0 2-.9 2-2V5c0-1.1-.9-2-2-2zM9 17H7v-7h2v7zm4 0h-2V7h2v10zm4 0h-2v-4h2v4z\"/>\n",
              "    </g>\n",
              "</svg>\n",
              "      </button>\n",
              "    </div>\n",
              "\n",
              "<style>\n",
              "  .colab-df-quickchart {\n",
              "    background-color: #E8F0FE;\n",
              "    border: none;\n",
              "    border-radius: 50%;\n",
              "    cursor: pointer;\n",
              "    display: none;\n",
              "    fill: #1967D2;\n",
              "    height: 32px;\n",
              "    padding: 0 0 0 0;\n",
              "    width: 32px;\n",
              "  }\n",
              "\n",
              "  .colab-df-quickchart:hover {\n",
              "    background-color: #E2EBFA;\n",
              "    box-shadow: 0px 1px 2px rgba(60, 64, 67, 0.3), 0px 1px 3px 1px rgba(60, 64, 67, 0.15);\n",
              "    fill: #174EA6;\n",
              "  }\n",
              "\n",
              "  [theme=dark] .colab-df-quickchart {\n",
              "    background-color: #3B4455;\n",
              "    fill: #D2E3FC;\n",
              "  }\n",
              "\n",
              "  [theme=dark] .colab-df-quickchart:hover {\n",
              "    background-color: #434B5C;\n",
              "    box-shadow: 0px 1px 3px 1px rgba(0, 0, 0, 0.15);\n",
              "    filter: drop-shadow(0px 1px 2px rgba(0, 0, 0, 0.3));\n",
              "    fill: #FFFFFF;\n",
              "  }\n",
              "</style>\n",
              "\n",
              "    <script>\n",
              "      async function quickchart(key) {\n",
              "        const containerElement = document.querySelector('#' + key);\n",
              "        const charts = await google.colab.kernel.invokeFunction(\n",
              "            'suggestCharts', [key], {});\n",
              "      }\n",
              "    </script>\n",
              "\n",
              "\n",
              "      <script>\n",
              "\n",
              "function displayQuickchartButton(domScope) {\n",
              "  let quickchartButtonEl =\n",
              "    domScope.querySelector('#df-671a8579-48d4-435d-a8b1-623ba145f962 button.colab-df-quickchart');\n",
              "  quickchartButtonEl.style.display =\n",
              "    google.colab.kernel.accessAllowed ? 'block' : 'none';\n",
              "}\n",
              "\n",
              "        displayQuickchartButton(document);\n",
              "      </script>\n",
              "      <style>\n",
              "    .colab-df-container {\n",
              "      display:flex;\n",
              "      flex-wrap:wrap;\n",
              "      gap: 12px;\n",
              "    }\n",
              "\n",
              "    .colab-df-convert {\n",
              "      background-color: #E8F0FE;\n",
              "      border: none;\n",
              "      border-radius: 50%;\n",
              "      cursor: pointer;\n",
              "      display: none;\n",
              "      fill: #1967D2;\n",
              "      height: 32px;\n",
              "      padding: 0 0 0 0;\n",
              "      width: 32px;\n",
              "    }\n",
              "\n",
              "    .colab-df-convert:hover {\n",
              "      background-color: #E2EBFA;\n",
              "      box-shadow: 0px 1px 2px rgba(60, 64, 67, 0.3), 0px 1px 3px 1px rgba(60, 64, 67, 0.15);\n",
              "      fill: #174EA6;\n",
              "    }\n",
              "\n",
              "    [theme=dark] .colab-df-convert {\n",
              "      background-color: #3B4455;\n",
              "      fill: #D2E3FC;\n",
              "    }\n",
              "\n",
              "    [theme=dark] .colab-df-convert:hover {\n",
              "      background-color: #434B5C;\n",
              "      box-shadow: 0px 1px 3px 1px rgba(0, 0, 0, 0.15);\n",
              "      filter: drop-shadow(0px 1px 2px rgba(0, 0, 0, 0.3));\n",
              "      fill: #FFFFFF;\n",
              "    }\n",
              "  </style>\n",
              "\n",
              "      <script>\n",
              "        const buttonEl =\n",
              "          document.querySelector('#df-27777a31-0a8d-4d9e-b2b5-61da9fd9ce3d button.colab-df-convert');\n",
              "        buttonEl.style.display =\n",
              "          google.colab.kernel.accessAllowed ? 'block' : 'none';\n",
              "\n",
              "        async function convertToInteractive(key) {\n",
              "          const element = document.querySelector('#df-27777a31-0a8d-4d9e-b2b5-61da9fd9ce3d');\n",
              "          const dataTable =\n",
              "            await google.colab.kernel.invokeFunction('convertToInteractive',\n",
              "                                                     [key], {});\n",
              "          if (!dataTable) return;\n",
              "\n",
              "          const docLinkHtml = 'Like what you see? Visit the ' +\n",
              "            '<a target=\"_blank\" href=https://colab.research.google.com/notebooks/data_table.ipynb>data table notebook</a>'\n",
              "            + ' to learn more about interactive tables.';\n",
              "          element.innerHTML = '';\n",
              "          dataTable['output_type'] = 'display_data';\n",
              "          await google.colab.output.renderOutput(dataTable, element);\n",
              "          const docLink = document.createElement('div');\n",
              "          docLink.innerHTML = docLinkHtml;\n",
              "          element.appendChild(docLink);\n",
              "        }\n",
              "      </script>\n",
              "    </div>\n",
              "  </div>\n"
            ]
          },
          "metadata": {},
          "execution_count": 66
        }
      ],
      "source": [
        "# Checking for duplicate rows\n",
        "df[df.duplicated()]"
      ]
    },
    {
      "cell_type": "markdown",
      "metadata": {
        "id": "ojoWVNg5QTZN"
      },
      "source": [
        "**No Duplicate entries found in the data**"
      ]
    },
    {
      "cell_type": "code",
      "execution_count": null,
      "metadata": {
        "colab": {
          "base_uri": "https://localhost:8080/"
        },
        "id": "i16klk1KPCRW",
        "outputId": "06d4abcb-0bd2-4620-8b8f-e065d8d38237"
      },
      "outputs": [
        {
          "output_type": "stream",
          "name": "stdout",
          "text": [
            "User_ID : 5891\n",
            "Product_ID : 3631\n",
            "Gender : 2\n",
            "Age : 7\n",
            "Occupation : 21\n",
            "City_Category : 3\n",
            "Stay_In_Current_City_Years : 5\n",
            "Marital_Status : 2\n",
            "Product_Category : 20\n",
            "Purchase : 18105\n"
          ]
        }
      ],
      "source": [
        "# Number of unique values in our data\n",
        "for i in df.columns:\n",
        "  print(i,':',df[i].nunique())"
      ]
    },
    {
      "cell_type": "code",
      "execution_count": null,
      "metadata": {
        "colab": {
          "base_uri": "https://localhost:8080/",
          "height": 300
        },
        "id": "3vBZ-082s53U",
        "outputId": "aaf679c4-8de4-4e88-f714-5aa8903f5d31"
      },
      "outputs": [
        {
          "output_type": "execute_result",
          "data": {
            "text/plain": [
              "            Purchase\n",
              "count  550068.000000\n",
              "mean     9263.968713\n",
              "std      5023.065394\n",
              "min        12.000000\n",
              "25%      5823.000000\n",
              "50%      8047.000000\n",
              "75%     12054.000000\n",
              "max     23961.000000"
            ],
            "text/html": [
              "\n",
              "\n",
              "  <div id=\"df-72b1538a-2ccb-4a1d-bcf5-16410bbc5060\">\n",
              "    <div class=\"colab-df-container\">\n",
              "      <div>\n",
              "<style scoped>\n",
              "    .dataframe tbody tr th:only-of-type {\n",
              "        vertical-align: middle;\n",
              "    }\n",
              "\n",
              "    .dataframe tbody tr th {\n",
              "        vertical-align: top;\n",
              "    }\n",
              "\n",
              "    .dataframe thead th {\n",
              "        text-align: right;\n",
              "    }\n",
              "</style>\n",
              "<table border=\"1\" class=\"dataframe\">\n",
              "  <thead>\n",
              "    <tr style=\"text-align: right;\">\n",
              "      <th></th>\n",
              "      <th>Purchase</th>\n",
              "    </tr>\n",
              "  </thead>\n",
              "  <tbody>\n",
              "    <tr>\n",
              "      <th>count</th>\n",
              "      <td>550068.000000</td>\n",
              "    </tr>\n",
              "    <tr>\n",
              "      <th>mean</th>\n",
              "      <td>9263.968713</td>\n",
              "    </tr>\n",
              "    <tr>\n",
              "      <th>std</th>\n",
              "      <td>5023.065394</td>\n",
              "    </tr>\n",
              "    <tr>\n",
              "      <th>min</th>\n",
              "      <td>12.000000</td>\n",
              "    </tr>\n",
              "    <tr>\n",
              "      <th>25%</th>\n",
              "      <td>5823.000000</td>\n",
              "    </tr>\n",
              "    <tr>\n",
              "      <th>50%</th>\n",
              "      <td>8047.000000</td>\n",
              "    </tr>\n",
              "    <tr>\n",
              "      <th>75%</th>\n",
              "      <td>12054.000000</td>\n",
              "    </tr>\n",
              "    <tr>\n",
              "      <th>max</th>\n",
              "      <td>23961.000000</td>\n",
              "    </tr>\n",
              "  </tbody>\n",
              "</table>\n",
              "</div>\n",
              "      <button class=\"colab-df-convert\" onclick=\"convertToInteractive('df-72b1538a-2ccb-4a1d-bcf5-16410bbc5060')\"\n",
              "              title=\"Convert this dataframe to an interactive table.\"\n",
              "              style=\"display:none;\">\n",
              "\n",
              "  <svg xmlns=\"http://www.w3.org/2000/svg\" height=\"24px\"viewBox=\"0 0 24 24\"\n",
              "       width=\"24px\">\n",
              "    <path d=\"M0 0h24v24H0V0z\" fill=\"none\"/>\n",
              "    <path d=\"M18.56 5.44l.94 2.06.94-2.06 2.06-.94-2.06-.94-.94-2.06-.94 2.06-2.06.94zm-11 1L8.5 8.5l.94-2.06 2.06-.94-2.06-.94L8.5 2.5l-.94 2.06-2.06.94zm10 10l.94 2.06.94-2.06 2.06-.94-2.06-.94-.94-2.06-.94 2.06-2.06.94z\"/><path d=\"M17.41 7.96l-1.37-1.37c-.4-.4-.92-.59-1.43-.59-.52 0-1.04.2-1.43.59L10.3 9.45l-7.72 7.72c-.78.78-.78 2.05 0 2.83L4 21.41c.39.39.9.59 1.41.59.51 0 1.02-.2 1.41-.59l7.78-7.78 2.81-2.81c.8-.78.8-2.07 0-2.86zM5.41 20L4 18.59l7.72-7.72 1.47 1.35L5.41 20z\"/>\n",
              "  </svg>\n",
              "      </button>\n",
              "\n",
              "\n",
              "\n",
              "    <div id=\"df-bb07fdda-83ae-4f04-889e-b3915b426192\">\n",
              "      <button class=\"colab-df-quickchart\" onclick=\"quickchart('df-bb07fdda-83ae-4f04-889e-b3915b426192')\"\n",
              "              title=\"Suggest charts.\"\n",
              "              style=\"display:none;\">\n",
              "\n",
              "<svg xmlns=\"http://www.w3.org/2000/svg\" height=\"24px\"viewBox=\"0 0 24 24\"\n",
              "     width=\"24px\">\n",
              "    <g>\n",
              "        <path d=\"M19 3H5c-1.1 0-2 .9-2 2v14c0 1.1.9 2 2 2h14c1.1 0 2-.9 2-2V5c0-1.1-.9-2-2-2zM9 17H7v-7h2v7zm4 0h-2V7h2v10zm4 0h-2v-4h2v4z\"/>\n",
              "    </g>\n",
              "</svg>\n",
              "      </button>\n",
              "    </div>\n",
              "\n",
              "<style>\n",
              "  .colab-df-quickchart {\n",
              "    background-color: #E8F0FE;\n",
              "    border: none;\n",
              "    border-radius: 50%;\n",
              "    cursor: pointer;\n",
              "    display: none;\n",
              "    fill: #1967D2;\n",
              "    height: 32px;\n",
              "    padding: 0 0 0 0;\n",
              "    width: 32px;\n",
              "  }\n",
              "\n",
              "  .colab-df-quickchart:hover {\n",
              "    background-color: #E2EBFA;\n",
              "    box-shadow: 0px 1px 2px rgba(60, 64, 67, 0.3), 0px 1px 3px 1px rgba(60, 64, 67, 0.15);\n",
              "    fill: #174EA6;\n",
              "  }\n",
              "\n",
              "  [theme=dark] .colab-df-quickchart {\n",
              "    background-color: #3B4455;\n",
              "    fill: #D2E3FC;\n",
              "  }\n",
              "\n",
              "  [theme=dark] .colab-df-quickchart:hover {\n",
              "    background-color: #434B5C;\n",
              "    box-shadow: 0px 1px 3px 1px rgba(0, 0, 0, 0.15);\n",
              "    filter: drop-shadow(0px 1px 2px rgba(0, 0, 0, 0.3));\n",
              "    fill: #FFFFFF;\n",
              "  }\n",
              "</style>\n",
              "\n",
              "    <script>\n",
              "      async function quickchart(key) {\n",
              "        const containerElement = document.querySelector('#' + key);\n",
              "        const charts = await google.colab.kernel.invokeFunction(\n",
              "            'suggestCharts', [key], {});\n",
              "      }\n",
              "    </script>\n",
              "\n",
              "\n",
              "      <script>\n",
              "\n",
              "function displayQuickchartButton(domScope) {\n",
              "  let quickchartButtonEl =\n",
              "    domScope.querySelector('#df-bb07fdda-83ae-4f04-889e-b3915b426192 button.colab-df-quickchart');\n",
              "  quickchartButtonEl.style.display =\n",
              "    google.colab.kernel.accessAllowed ? 'block' : 'none';\n",
              "}\n",
              "\n",
              "        displayQuickchartButton(document);\n",
              "      </script>\n",
              "      <style>\n",
              "    .colab-df-container {\n",
              "      display:flex;\n",
              "      flex-wrap:wrap;\n",
              "      gap: 12px;\n",
              "    }\n",
              "\n",
              "    .colab-df-convert {\n",
              "      background-color: #E8F0FE;\n",
              "      border: none;\n",
              "      border-radius: 50%;\n",
              "      cursor: pointer;\n",
              "      display: none;\n",
              "      fill: #1967D2;\n",
              "      height: 32px;\n",
              "      padding: 0 0 0 0;\n",
              "      width: 32px;\n",
              "    }\n",
              "\n",
              "    .colab-df-convert:hover {\n",
              "      background-color: #E2EBFA;\n",
              "      box-shadow: 0px 1px 2px rgba(60, 64, 67, 0.3), 0px 1px 3px 1px rgba(60, 64, 67, 0.15);\n",
              "      fill: #174EA6;\n",
              "    }\n",
              "\n",
              "    [theme=dark] .colab-df-convert {\n",
              "      background-color: #3B4455;\n",
              "      fill: #D2E3FC;\n",
              "    }\n",
              "\n",
              "    [theme=dark] .colab-df-convert:hover {\n",
              "      background-color: #434B5C;\n",
              "      box-shadow: 0px 1px 3px 1px rgba(0, 0, 0, 0.15);\n",
              "      filter: drop-shadow(0px 1px 2px rgba(0, 0, 0, 0.3));\n",
              "      fill: #FFFFFF;\n",
              "    }\n",
              "  </style>\n",
              "\n",
              "      <script>\n",
              "        const buttonEl =\n",
              "          document.querySelector('#df-72b1538a-2ccb-4a1d-bcf5-16410bbc5060 button.colab-df-convert');\n",
              "        buttonEl.style.display =\n",
              "          google.colab.kernel.accessAllowed ? 'block' : 'none';\n",
              "\n",
              "        async function convertToInteractive(key) {\n",
              "          const element = document.querySelector('#df-72b1538a-2ccb-4a1d-bcf5-16410bbc5060');\n",
              "          const dataTable =\n",
              "            await google.colab.kernel.invokeFunction('convertToInteractive',\n",
              "                                                     [key], {});\n",
              "          if (!dataTable) return;\n",
              "\n",
              "          const docLinkHtml = 'Like what you see? Visit the ' +\n",
              "            '<a target=\"_blank\" href=https://colab.research.google.com/notebooks/data_table.ipynb>data table notebook</a>'\n",
              "            + ' to learn more about interactive tables.';\n",
              "          element.innerHTML = '';\n",
              "          dataTable['output_type'] = 'display_data';\n",
              "          await google.colab.output.renderOutput(dataTable, element);\n",
              "          const docLink = document.createElement('div');\n",
              "          docLink.innerHTML = docLinkHtml;\n",
              "          element.appendChild(docLink);\n",
              "        }\n",
              "      </script>\n",
              "    </div>\n",
              "  </div>\n"
            ]
          },
          "metadata": {},
          "execution_count": 68
        }
      ],
      "source": [
        "df.describe()"
      ]
    },
    {
      "cell_type": "code",
      "execution_count": null,
      "metadata": {
        "colab": {
          "base_uri": "https://localhost:8080/",
          "height": 285
        },
        "id": "8g2Xp1UcGMdw",
        "outputId": "2dfe7f9b-b01f-411c-82c9-c09ad252c051"
      },
      "outputs": [
        {
          "output_type": "execute_result",
          "data": {
            "text/plain": [
              "<seaborn.axisgrid.PairGrid at 0x79aeb811aa70>"
            ]
          },
          "metadata": {},
          "execution_count": 69
        },
        {
          "output_type": "display_data",
          "data": {
            "text/plain": [
              "<Figure size 250x250 with 2 Axes>"
            ],
            "image/png": "[encoded data removed]"
          },
          "metadata": {}
        }
      ],
      "source": [
        "sns.pairplot(df)"
      ]
    },
    {
      "cell_type": "code",
      "execution_count": null,
      "metadata": {
        "colab": {
          "base_uri": "https://localhost:8080/"
        },
        "id": "7SdkycXMPDFv",
        "outputId": "2b43fe05-2ba1-4470-b1cd-6aea6c3559f3"
      },
      "outputs": [
        {
          "output_type": "execute_result",
          "data": {
            "text/plain": [
              "M    414259\n",
              "F    135809\n",
              "Name: Gender, dtype: int64"
            ]
          },
          "metadata": {},
          "execution_count": 70
        }
      ],
      "source": [
        "# Looking at gender counts\n",
        "df['Gender'].value_counts()"
      ]
    },
    {
      "cell_type": "markdown",
      "source": [
        "**The purchase data for females is significantly less than the males for Black Friday.**"
      ],
      "metadata": {
        "id": "JxrhT7_R0GMC"
      }
    },
    {
      "cell_type": "code",
      "execution_count": null,
      "metadata": {
        "colab": {
          "base_uri": "https://localhost:8080/"
        },
        "id": "bPsHZjNzPC_M",
        "outputId": "9664540b-8239-4249-dfbc-f09ef98ed126"
      },
      "outputs": [
        {
          "output_type": "execute_result",
          "data": {
            "text/plain": [
              "26-35    219587\n",
              "36-45    110013\n",
              "18-25     99660\n",
              "46-50     45701\n",
              "51-55     38501\n",
              "55+       21504\n",
              "0-17      15102\n",
              "Name: Age, dtype: int64"
            ]
          },
          "metadata": {},
          "execution_count": 71
        }
      ],
      "source": [
        "# Looking at the counts of age categories\n",
        "df['Age'].value_counts()"
      ]
    },
    {
      "cell_type": "markdown",
      "source": [
        "**The age group of 26-35 shops the most while 0-17 years the least. This can be attributed to the fact that 0-17 age groups are normally accompanied by guardians or do not earn so would be spending least. The spending also reduces as age increases further.**"
      ],
      "metadata": {
        "id": "s8kmbzvW0TyL"
      }
    },
    {
      "cell_type": "code",
      "execution_count": null,
      "metadata": {
        "colab": {
          "base_uri": "https://localhost:8080/"
        },
        "id": "ZKjhGduBIGAf",
        "outputId": "30b61821-bf3d-4ef1-bad8-27ed8594b918"
      },
      "outputs": [
        {
          "output_type": "execute_result",
          "data": {
            "text/plain": [
              "0    324731\n",
              "1    225337\n",
              "Name: Marital_Status, dtype: int64"
            ]
          },
          "metadata": {},
          "execution_count": 72
        }
      ],
      "source": [
        "# Looking at marital status counts\n",
        "df['Marital_Status'].value_counts()"
      ]
    },
    {
      "cell_type": "code",
      "execution_count": null,
      "metadata": {
        "colab": {
          "base_uri": "https://localhost:8080/",
          "height": 466
        },
        "id": "nV5QZ5SSIRFR",
        "outputId": "9a69f68b-a4b9-4c99-f90b-b585c09b85b2"
      },
      "outputs": [
        {
          "output_type": "execute_result",
          "data": {
            "text/plain": [
              "<Axes: xlabel='Occupation', ylabel='count'>"
            ]
          },
          "metadata": {},
          "execution_count": 73
        },
        {
          "output_type": "display_data",
          "data": {
            "text/plain": [
              "<Figure size 640x480 with 1 Axes>"
            ],
            "image/png": "[encoded data removed]"
          },
          "metadata": {}
        }
      ],
      "source": [
        "# Looking at occupation counts\n",
        "sns.countplot(x=df['Occupation'])"
      ]
    },
    {
      "cell_type": "markdown",
      "source": [
        "**There are many people with occupation 0, 4 and 7, while the ones with 8, 9 and 18 are the least.**"
      ],
      "metadata": {
        "id": "rGzku9tr1ATb"
      }
    },
    {
      "cell_type": "code",
      "execution_count": null,
      "metadata": {
        "colab": {
          "base_uri": "https://localhost:8080/"
        },
        "id": "prSfzV01IRB5",
        "outputId": "6e9d2f27-e036-46a6-a495-59ccb9063bab"
      },
      "outputs": [
        {
          "output_type": "execute_result",
          "data": {
            "text/plain": [
              "B    231173\n",
              "C    171175\n",
              "A    147720\n",
              "Name: City_Category, dtype: int64"
            ]
          },
          "metadata": {},
          "execution_count": 74
        }
      ],
      "source": [
        "# Looking at city catergories\n",
        "df['City_Category'].value_counts()"
      ]
    },
    {
      "cell_type": "markdown",
      "source": [
        "**The counts of the cities A and C are similar, while B saw the most number of purchases.**"
      ],
      "metadata": {
        "id": "9O9J-HvT1UE6"
      }
    },
    {
      "cell_type": "code",
      "execution_count": null,
      "metadata": {
        "colab": {
          "base_uri": "https://localhost:8080/"
        },
        "id": "Ubuq_PtTIQ_P",
        "outputId": "d9f4cb49-ed45-45cd-fa22-c5653c4c2c8e"
      },
      "outputs": [
        {
          "output_type": "execute_result",
          "data": {
            "text/plain": [
              "1     193821\n",
              "2     101838\n",
              "3      95285\n",
              "4+     84726\n",
              "0      74398\n",
              "Name: Stay_In_Current_City_Years, dtype: int64"
            ]
          },
          "metadata": {},
          "execution_count": 75
        }
      ],
      "source": [
        "# Looking at stay in the current cities\n",
        "df['Stay_In_Current_City_Years'].value_counts()"
      ]
    },
    {
      "cell_type": "markdown",
      "source": [
        "**The places where the stay is 1 and 2 years have seen more purchases.**"
      ],
      "metadata": {
        "id": "N4hfzfv01j-6"
      }
    },
    {
      "cell_type": "code",
      "execution_count": null,
      "metadata": {
        "colab": {
          "base_uri": "https://localhost:8080/",
          "height": 467
        },
        "id": "sHx4EAWdIQ83",
        "outputId": "a8b1f5ed-883c-48c1-fa85-f7eaf11be060"
      },
      "outputs": [
        {
          "output_type": "execute_result",
          "data": {
            "text/plain": [
              "<Axes: xlabel='Product_Category', ylabel='count'>"
            ]
          },
          "metadata": {},
          "execution_count": 76
        },
        {
          "output_type": "display_data",
          "data": {
            "text/plain": [
              "<Figure size 640x480 with 1 Axes>"
            ],
            "image/png": "[encoded data removed]"
          },
          "metadata": {}
        }
      ],
      "source": [
        "# Looking at product category counts\n",
        "sns.countplot(x=df['Product_Category'])"
      ]
    },
    {
      "cell_type": "markdown",
      "source": [
        "**The product categories 1, 5 and 8 have been bought way more times than others.**"
      ],
      "metadata": {
        "id": "U0qL8_w804uT"
      }
    },
    {
      "cell_type": "code",
      "execution_count": null,
      "metadata": {
        "colab": {
          "base_uri": "https://localhost:8080/"
        },
        "id": "GF5wLRfrIQ6O",
        "outputId": "04106d30-b623-4683-c569-1adb2130e1f9"
      },
      "outputs": [
        {
          "output_type": "execute_result",
          "data": {
            "text/plain": [
              "P00265242    1880\n",
              "P00025442    1615\n",
              "P00110742    1612\n",
              "P00112142    1562\n",
              "P00057642    1470\n",
              "             ... \n",
              "P00068742       1\n",
              "P00012342       1\n",
              "P00162742       1\n",
              "P00091742       1\n",
              "P00231642       1\n",
              "Name: Product_ID, Length: 3631, dtype: int64"
            ]
          },
          "metadata": {},
          "execution_count": 77
        }
      ],
      "source": [
        "# Looking at the sale of products\n",
        "df['Product_ID'].value_counts()"
      ]
    },
    {
      "cell_type": "code",
      "execution_count": null,
      "metadata": {
        "colab": {
          "base_uri": "https://localhost:8080/"
        },
        "id": "Kzk_FtiDPC4O",
        "outputId": "3cd15245-55a8-4640-b498-d0c449d69f20"
      },
      "outputs": [
        {
          "output_type": "execute_result",
          "data": {
            "text/plain": [
              "count    550068.000000\n",
              "mean       9263.968713\n",
              "std        5023.065394\n",
              "min          12.000000\n",
              "25%        5823.000000\n",
              "50%        8047.000000\n",
              "75%       12054.000000\n",
              "max       23961.000000\n",
              "Name: Purchase, dtype: float64"
            ]
          },
          "metadata": {},
          "execution_count": 78
        }
      ],
      "source": [
        "df['Purchase'].describe()"
      ]
    },
    {
      "cell_type": "code",
      "execution_count": null,
      "metadata": {
        "colab": {
          "base_uri": "https://localhost:8080/",
          "height": 467
        },
        "id": "P0LJl5Z5PCmu",
        "outputId": "035a18ff-b705-41a5-8360-7b7579827baa"
      },
      "outputs": [
        {
          "output_type": "execute_result",
          "data": {
            "text/plain": [
              "<Axes: xlabel='Purchase_binned', ylabel='count'>"
            ]
          },
          "metadata": {},
          "execution_count": 80
        },
        {
          "output_type": "display_data",
          "data": {
            "text/plain": [
              "<Figure size 640x480 with 1 Axes>"
            ],
            "image/png": "[encoded data removed]"
          },
          "metadata": {}
        }
      ],
      "source": [
        "# To check for the purchase data, we bin it into 10 categories and see what amount range is most used.\n",
        "bins = np.arange(0, 25000, 2400)\n",
        "labels = np.arange(1, 11)\n",
        "\n",
        "df['Purchase_binned'] = pd.cut(df['Purchase'], bins=bins, labels=labels)\n",
        "\n",
        "sns.countplot(x=df['Purchase_binned'])"
      ]
    },
    {
      "cell_type": "markdown",
      "source": [
        "**The amount 7200-12000 is the most purchased amount.**"
      ],
      "metadata": {
        "id": "hBfhhup4aAuT"
      }
    },
    {
      "cell_type": "code",
      "execution_count": null,
      "metadata": {
        "colab": {
          "base_uri": "https://localhost:8080/",
          "height": 470
        },
        "id": "euWki4czE1CZ",
        "outputId": "4648aab1-1fba-4ed2-ccb1-0f5817a3f02b"
      },
      "outputs": [
        {
          "output_type": "execute_result",
          "data": {
            "text/plain": [
              "<Axes: xlabel='Gender', ylabel='Purchase'>"
            ]
          },
          "metadata": {},
          "execution_count": 81
        },
        {
          "output_type": "display_data",
          "data": {
            "text/plain": [
              "<Figure size 640x480 with 1 Axes>"
            ],
            "image/png": "[encoded data removed]"
          },
          "metadata": {}
        }
      ],
      "source": [
        "# Checking the distribution of male and female customers in the purchase\n",
        "sns.boxplot(data = df, x = 'Gender', y = 'Purchase')"
      ]
    },
    {
      "cell_type": "markdown",
      "metadata": {
        "id": "Vj-LeuG7tmHi"
      },
      "source": [
        "**There are a significant amount of people (both male and female) who have purchased extraordinary amounts. The average, though, is approximately the same for both the genders.**"
      ]
    },
    {
      "cell_type": "code",
      "execution_count": null,
      "metadata": {
        "colab": {
          "base_uri": "https://localhost:8080/",
          "height": 470
        },
        "id": "s6hlskBRE0-8",
        "outputId": "8494e9b0-d723-45b1-f722-f7279464790a"
      },
      "outputs": [
        {
          "output_type": "execute_result",
          "data": {
            "text/plain": [
              "<matplotlib.legend.Legend at 0x79aeb80f6c20>"
            ]
          },
          "metadata": {},
          "execution_count": 82
        },
        {
          "output_type": "display_data",
          "data": {
            "text/plain": [
              "<Figure size 640x480 with 1 Axes>"
            ],
            "image/png": "[encoded data removed]"
          },
          "metadata": {}
        }
      ],
      "source": [
        "# Checking the distribution of marital status in the purchase\n",
        "sns.boxplot(data = df, x = 'Marital_Status', y = 'Purchase', hue = 'Gender')\n",
        "plt.legend(bbox_to_anchor=(1.25, 1))"
      ]
    },
    {
      "cell_type": "markdown",
      "metadata": {
        "id": "c9-x-ta0vZLr"
      },
      "source": [
        "**The boxplots are almost identical for both married and unmarried people.**"
      ]
    },
    {
      "cell_type": "code",
      "execution_count": null,
      "metadata": {
        "colab": {
          "base_uri": "https://localhost:8080/",
          "height": 470
        },
        "id": "uJtkoBDBE073",
        "outputId": "e6144ccc-74d8-4388-efef-3f45f095dcb7"
      },
      "outputs": [
        {
          "output_type": "execute_result",
          "data": {
            "text/plain": [
              "<Axes: xlabel='Age', ylabel='Purchase'>"
            ]
          },
          "metadata": {},
          "execution_count": 83
        },
        {
          "output_type": "display_data",
          "data": {
            "text/plain": [
              "<Figure size 640x480 with 1 Axes>"
            ],
            "image/png": "[encoded data removed]"
          },
          "metadata": {}
        }
      ],
      "source": [
        "# Checking the distribution of customers by age in the purchase\n",
        "sns.boxplot(data = df, x = 'Age', y = 'Purchase', order = ['0-17', '18-25', '26-35', '36-45', '46-50', '51-55', '55+'])"
      ]
    },
    {
      "cell_type": "markdown",
      "metadata": {
        "id": "_ATX_tQ_yS2U"
      },
      "source": [
        "**The stretch of the plot, the minimum and the maximum vary a little. The average almost remains the same.**"
      ]
    },
    {
      "cell_type": "code",
      "execution_count": null,
      "metadata": {
        "colab": {
          "base_uri": "https://localhost:8080/",
          "height": 470
        },
        "id": "PAlOg7GpE02l",
        "outputId": "0acafb02-2caa-4cf5-ada0-a08c281a1e8a"
      },
      "outputs": [
        {
          "output_type": "execute_result",
          "data": {
            "text/plain": [
              "<matplotlib.legend.Legend at 0x79aebba31bd0>"
            ]
          },
          "metadata": {},
          "execution_count": 84
        },
        {
          "output_type": "display_data",
          "data": {
            "text/plain": [
              "<Figure size 640x480 with 1 Axes>"
            ],
            "image/png": "[encoded data removed]"
          },
          "metadata": {}
        }
      ],
      "source": [
        "# Checking the distribution of cities in the purchase\n",
        "sns.boxplot(data = df, x = 'City_Category', y = 'Purchase', hue = 'Gender')\n",
        "plt.legend(bbox_to_anchor=(1.25, 1))"
      ]
    },
    {
      "cell_type": "markdown",
      "source": [
        "**City C sees a good participation from males. The other cities have similar data.**"
      ],
      "metadata": {
        "id": "Z4GLikkP2srA"
      }
    },
    {
      "cell_type": "code",
      "execution_count": null,
      "metadata": {
        "colab": {
          "base_uri": "https://localhost:8080/",
          "height": 470
        },
        "id": "NFy_5jW8E0z3",
        "outputId": "a7fb4a0b-3eac-4c9f-a18c-8690045d5492"
      },
      "outputs": [
        {
          "output_type": "execute_result",
          "data": {
            "text/plain": [
              "<matplotlib.legend.Legend at 0x79aebba32ec0>"
            ]
          },
          "metadata": {},
          "execution_count": 85
        },
        {
          "output_type": "display_data",
          "data": {
            "text/plain": [
              "<Figure size 640x480 with 1 Axes>"
            ],
            "image/png": "[encoded data removed]"
          },
          "metadata": {}
        }
      ],
      "source": [
        "# Checking the distribution of cities in the purchase\n",
        "sns.boxplot(data = df, x = 'Stay_In_Current_City_Years', y = 'Purchase', hue = 'Gender', order = ['0', '1', '2', '3', '4+'])\n",
        "plt.legend(bbox_to_anchor=(1.25, 1))"
      ]
    },
    {
      "cell_type": "code",
      "execution_count": null,
      "metadata": {
        "colab": {
          "base_uri": "https://localhost:8080/",
          "height": 707
        },
        "id": "iM27FZ06E0uH",
        "outputId": "a4f60930-3003-4cd5-e55e-25396187f42a"
      },
      "outputs": [
        {
          "output_type": "execute_result",
          "data": {
            "text/plain": [
              "   Occupation  SumPurchase  NoOfPeople  AvgPurchase\n",
              "0           0    635406958       69638  9124.428588\n",
              "1           1    424614144       47426  8953.193270\n",
              "2           2    238028583       26588  8952.481683\n",
              "3           3    162002168       17650  9178.593088\n",
              "4           4    666244484       72308  9213.980251\n",
              "5           5    113649759       12177  9333.149298\n",
              "6           6    188416784       20355  9256.535691\n",
              "7           7    557371587       59133  9425.728223\n",
              "8           8     14737388        1546  9532.592497\n",
              "9           9     54340046        6291  8637.743761\n",
              "10         10    115844465       12930  8959.355375\n",
              "11         11    106751618       11586  9213.845848\n",
              "12         12    305449446       31179  9796.640239\n",
              "13         13     71919481        7728  9306.351061\n",
              "14         14    259454692       27309  9500.702772\n",
              "15         15    118960211       12165  9778.891163\n",
              "16         16    238346955       25371  9394.464349\n",
              "17         17    393281453       40043  9821.478236\n",
              "18         18     60721461        6622  9169.655844\n",
              "19         19     73700617        8461  8710.627231\n",
              "20         20    296570442       33562  8836.494905"
            ],
            "text/html": [
              "\n",
              "\n",
              "  <div id=\"df-1171d7e4-0f24-407f-b491-78c062f0bf04\">\n",
              "    <div class=\"colab-df-container\">\n",
              "      <div>\n",
              "<style scoped>\n",
              "    .dataframe tbody tr th:only-of-type {\n",
              "        vertical-align: middle;\n",
              "    }\n",
              "\n",
              "    .dataframe tbody tr th {\n",
              "        vertical-align: top;\n",
              "    }\n",
              "\n",
              "    .dataframe thead th {\n",
              "        text-align: right;\n",
              "    }\n",
              "</style>\n",
              "<table border=\"1\" class=\"dataframe\">\n",
              "  <thead>\n",
              "    <tr style=\"text-align: right;\">\n",
              "      <th></th>\n",
              "      <th>Occupation</th>\n",
              "      <th>SumPurchase</th>\n",
              "      <th>NoOfPeople</th>\n",
              "      <th>AvgPurchase</th>\n",
              "    </tr>\n",
              "  </thead>\n",
              "  <tbody>\n",
              "    <tr>\n",
              "      <th>0</th>\n",
              "      <td>0</td>\n",
              "      <td>635406958</td>\n",
              "      <td>69638</td>\n",
              "      <td>9124.428588</td>\n",
              "    </tr>\n",
              "    <tr>\n",
              "      <th>1</th>\n",
              "      <td>1</td>\n",
              "      <td>424614144</td>\n",
              "      <td>47426</td>\n",
              "      <td>8953.193270</td>\n",
              "    </tr>\n",
              "    <tr>\n",
              "      <th>2</th>\n",
              "      <td>2</td>\n",
              "      <td>238028583</td>\n",
              "      <td>26588</td>\n",
              "      <td>8952.481683</td>\n",
              "    </tr>\n",
              "    <tr>\n",
              "      <th>3</th>\n",
              "      <td>3</td>\n",
              "      <td>162002168</td>\n",
              "      <td>17650</td>\n",
              "      <td>9178.593088</td>\n",
              "    </tr>\n",
              "    <tr>\n",
              "      <th>4</th>\n",
              "      <td>4</td>\n",
              "      <td>666244484</td>\n",
              "      <td>72308</td>\n",
              "      <td>9213.980251</td>\n",
              "    </tr>\n",
              "    <tr>\n",
              "      <th>5</th>\n",
              "      <td>5</td>\n",
              "      <td>113649759</td>\n",
              "      <td>12177</td>\n",
              "      <td>9333.149298</td>\n",
              "    </tr>\n",
              "    <tr>\n",
              "      <th>6</th>\n",
              "      <td>6</td>\n",
              "      <td>188416784</td>\n",
              "      <td>20355</td>\n",
              "      <td>9256.535691</td>\n",
              "    </tr>\n",
              "    <tr>\n",
              "      <th>7</th>\n",
              "      <td>7</td>\n",
              "      <td>557371587</td>\n",
              "      <td>59133</td>\n",
              "      <td>9425.728223</td>\n",
              "    </tr>\n",
              "    <tr>\n",
              "      <th>8</th>\n",
              "      <td>8</td>\n",
              "      <td>14737388</td>\n",
              "      <td>1546</td>\n",
              "      <td>9532.592497</td>\n",
              "    </tr>\n",
              "    <tr>\n",
              "      <th>9</th>\n",
              "      <td>9</td>\n",
              "      <td>54340046</td>\n",
              "      <td>6291</td>\n",
              "      <td>8637.743761</td>\n",
              "    </tr>\n",
              "    <tr>\n",
              "      <th>10</th>\n",
              "      <td>10</td>\n",
              "      <td>115844465</td>\n",
              "      <td>12930</td>\n",
              "      <td>8959.355375</td>\n",
              "    </tr>\n",
              "    <tr>\n",
              "      <th>11</th>\n",
              "      <td>11</td>\n",
              "      <td>106751618</td>\n",
              "      <td>11586</td>\n",
              "      <td>9213.845848</td>\n",
              "    </tr>\n",
              "    <tr>\n",
              "      <th>12</th>\n",
              "      <td>12</td>\n",
              "      <td>305449446</td>\n",
              "      <td>31179</td>\n",
              "      <td>9796.640239</td>\n",
              "    </tr>\n",
              "    <tr>\n",
              "      <th>13</th>\n",
              "      <td>13</td>\n",
              "      <td>71919481</td>\n",
              "      <td>7728</td>\n",
              "      <td>9306.351061</td>\n",
              "    </tr>\n",
              "    <tr>\n",
              "      <th>14</th>\n",
              "      <td>14</td>\n",
              "      <td>259454692</td>\n",
              "      <td>27309</td>\n",
              "      <td>9500.702772</td>\n",
              "    </tr>\n",
              "    <tr>\n",
              "      <th>15</th>\n",
              "      <td>15</td>\n",
              "      <td>118960211</td>\n",
              "      <td>12165</td>\n",
              "      <td>9778.891163</td>\n",
              "    </tr>\n",
              "    <tr>\n",
              "      <th>16</th>\n",
              "      <td>16</td>\n",
              "      <td>238346955</td>\n",
              "      <td>25371</td>\n",
              "      <td>9394.464349</td>\n",
              "    </tr>\n",
              "    <tr>\n",
              "      <th>17</th>\n",
              "      <td>17</td>\n",
              "      <td>393281453</td>\n",
              "      <td>40043</td>\n",
              "      <td>9821.478236</td>\n",
              "    </tr>\n",
              "    <tr>\n",
              "      <th>18</th>\n",
              "      <td>18</td>\n",
              "      <td>60721461</td>\n",
              "      <td>6622</td>\n",
              "      <td>9169.655844</td>\n",
              "    </tr>\n",
              "    <tr>\n",
              "      <th>19</th>\n",
              "      <td>19</td>\n",
              "      <td>73700617</td>\n",
              "      <td>8461</td>\n",
              "      <td>8710.627231</td>\n",
              "    </tr>\n",
              "    <tr>\n",
              "      <th>20</th>\n",
              "      <td>20</td>\n",
              "      <td>296570442</td>\n",
              "      <td>33562</td>\n",
              "      <td>8836.494905</td>\n",
              "    </tr>\n",
              "  </tbody>\n",
              "</table>\n",
              "</div>\n",
              "      <button class=\"colab-df-convert\" onclick=\"convertToInteractive('df-1171d7e4-0f24-407f-b491-78c062f0bf04')\"\n",
              "              title=\"Convert this dataframe to an interactive table.\"\n",
              "              style=\"display:none;\">\n",
              "\n",
              "  <svg xmlns=\"http://www.w3.org/2000/svg\" height=\"24px\"viewBox=\"0 0 24 24\"\n",
              "       width=\"24px\">\n",
              "    <path d=\"M0 0h24v24H0V0z\" fill=\"none\"/>\n",
              "    <path d=\"M18.56 5.44l.94 2.06.94-2.06 2.06-.94-2.06-.94-.94-2.06-.94 2.06-2.06.94zm-11 1L8.5 8.5l.94-2.06 2.06-.94-2.06-.94L8.5 2.5l-.94 2.06-2.06.94zm10 10l.94 2.06.94-2.06 2.06-.94-2.06-.94-.94-2.06-.94 2.06-2.06.94z\"/><path d=\"M17.41 7.96l-1.37-1.37c-.4-.4-.92-.59-1.43-.59-.52 0-1.04.2-1.43.59L10.3 9.45l-7.72 7.72c-.78.78-.78 2.05 0 2.83L4 21.41c.39.39.9.59 1.41.59.51 0 1.02-.2 1.41-.59l7.78-7.78 2.81-2.81c.8-.78.8-2.07 0-2.86zM5.41 20L4 18.59l7.72-7.72 1.47 1.35L5.41 20z\"/>\n",
              "  </svg>\n",
              "      </button>\n",
              "\n",
              "\n",
              "\n",
              "    <div id=\"df-e7eb2837-4727-4039-9365-822a60ad0aaa\">\n",
              "      <button class=\"colab-df-quickchart\" onclick=\"quickchart('df-e7eb2837-4727-4039-9365-822a60ad0aaa')\"\n",
              "              title=\"Suggest charts.\"\n",
              "              style=\"display:none;\">\n",
              "\n",
              "<svg xmlns=\"http://www.w3.org/2000/svg\" height=\"24px\"viewBox=\"0 0 24 24\"\n",
              "     width=\"24px\">\n",
              "    <g>\n",
              "        <path d=\"M19 3H5c-1.1 0-2 .9-2 2v14c0 1.1.9 2 2 2h14c1.1 0 2-.9 2-2V5c0-1.1-.9-2-2-2zM9 17H7v-7h2v7zm4 0h-2V7h2v10zm4 0h-2v-4h2v4z\"/>\n",
              "    </g>\n",
              "</svg>\n",
              "      </button>\n",
              "    </div>\n",
              "\n",
              "<style>\n",
              "  .colab-df-quickchart {\n",
              "    background-color: #E8F0FE;\n",
              "    border: none;\n",
              "    border-radius: 50%;\n",
              "    cursor: pointer;\n",
              "    display: none;\n",
              "    fill: #1967D2;\n",
              "    height: 32px;\n",
              "    padding: 0 0 0 0;\n",
              "    width: 32px;\n",
              "  }\n",
              "\n",
              "  .colab-df-quickchart:hover {\n",
              "    background-color: #E2EBFA;\n",
              "    box-shadow: 0px 1px 2px rgba(60, 64, 67, 0.3), 0px 1px 3px 1px rgba(60, 64, 67, 0.15);\n",
              "    fill: #174EA6;\n",
              "  }\n",
              "\n",
              "  [theme=dark] .colab-df-quickchart {\n",
              "    background-color: #3B4455;\n",
              "    fill: #D2E3FC;\n",
              "  }\n",
              "\n",
              "  [theme=dark] .colab-df-quickchart:hover {\n",
              "    background-color: #434B5C;\n",
              "    box-shadow: 0px 1px 3px 1px rgba(0, 0, 0, 0.15);\n",
              "    filter: drop-shadow(0px 1px 2px rgba(0, 0, 0, 0.3));\n",
              "    fill: #FFFFFF;\n",
              "  }\n",
              "</style>\n",
              "\n",
              "    <script>\n",
              "      async function quickchart(key) {\n",
              "        const containerElement = document.querySelector('#' + key);\n",
              "        const charts = await google.colab.kernel.invokeFunction(\n",
              "            'suggestCharts', [key], {});\n",
              "      }\n",
              "    </script>\n",
              "\n",
              "\n",
              "      <script>\n",
              "\n",
              "function displayQuickchartButton(domScope) {\n",
              "  let quickchartButtonEl =\n",
              "    domScope.querySelector('#df-e7eb2837-4727-4039-9365-822a60ad0aaa button.colab-df-quickchart');\n",
              "  quickchartButtonEl.style.display =\n",
              "    google.colab.kernel.accessAllowed ? 'block' : 'none';\n",
              "}\n",
              "\n",
              "        displayQuickchartButton(document);\n",
              "      </script>\n",
              "      <style>\n",
              "    .colab-df-container {\n",
              "      display:flex;\n",
              "      flex-wrap:wrap;\n",
              "      gap: 12px;\n",
              "    }\n",
              "\n",
              "    .colab-df-convert {\n",
              "      background-color: #E8F0FE;\n",
              "      border: none;\n",
              "      border-radius: 50%;\n",
              "      cursor: pointer;\n",
              "      display: none;\n",
              "      fill: #1967D2;\n",
              "      height: 32px;\n",
              "      padding: 0 0 0 0;\n",
              "      width: 32px;\n",
              "    }\n",
              "\n",
              "    .colab-df-convert:hover {\n",
              "      background-color: #E2EBFA;\n",
              "      box-shadow: 0px 1px 2px rgba(60, 64, 67, 0.3), 0px 1px 3px 1px rgba(60, 64, 67, 0.15);\n",
              "      fill: #174EA6;\n",
              "    }\n",
              "\n",
              "    [theme=dark] .colab-df-convert {\n",
              "      background-color: #3B4455;\n",
              "      fill: #D2E3FC;\n",
              "    }\n",
              "\n",
              "    [theme=dark] .colab-df-convert:hover {\n",
              "      background-color: #434B5C;\n",
              "      box-shadow: 0px 1px 3px 1px rgba(0, 0, 0, 0.15);\n",
              "      filter: drop-shadow(0px 1px 2px rgba(0, 0, 0, 0.3));\n",
              "      fill: #FFFFFF;\n",
              "    }\n",
              "  </style>\n",
              "\n",
              "      <script>\n",
              "        const buttonEl =\n",
              "          document.querySelector('#df-1171d7e4-0f24-407f-b491-78c062f0bf04 button.colab-df-convert');\n",
              "        buttonEl.style.display =\n",
              "          google.colab.kernel.accessAllowed ? 'block' : 'none';\n",
              "\n",
              "        async function convertToInteractive(key) {\n",
              "          const element = document.querySelector('#df-1171d7e4-0f24-407f-b491-78c062f0bf04');\n",
              "          const dataTable =\n",
              "            await google.colab.kernel.invokeFunction('convertToInteractive',\n",
              "                                                     [key], {});\n",
              "          if (!dataTable) return;\n",
              "\n",
              "          const docLinkHtml = 'Like what you see? Visit the ' +\n",
              "            '<a target=\"_blank\" href=https://colab.research.google.com/notebooks/data_table.ipynb>data table notebook</a>'\n",
              "            + ' to learn more about interactive tables.';\n",
              "          element.innerHTML = '';\n",
              "          dataTable['output_type'] = 'display_data';\n",
              "          await google.colab.output.renderOutput(dataTable, element);\n",
              "          const docLink = document.createElement('div');\n",
              "          docLink.innerHTML = docLinkHtml;\n",
              "          element.appendChild(docLink);\n",
              "        }\n",
              "      </script>\n",
              "    </div>\n",
              "  </div>\n"
            ]
          },
          "metadata": {},
          "execution_count": 86
        }
      ],
      "source": [
        "# Checking purchase based on occupation\n",
        "df_occ_purchase_sum = df[['Occupation', 'Purchase']].groupby('Occupation')['Purchase'].sum().reset_index(name='SumPurchase')\n",
        "df_occ_purchase_avg = df[['Occupation', 'Purchase']].groupby('Occupation')['Purchase'].mean().reset_index(name='AvgPurchase')\n",
        "df_occ_count = df['Occupation'].value_counts().reset_index(name='NoOfPeople').rename(columns = {'index':'Occupation'})\n",
        "\n",
        "df_temp = None\n",
        "df_temp = pd.merge(df_occ_purchase_sum, df_occ_count, on='Occupation', how='inner')\n",
        "df_temp = pd.merge(df_temp, df_occ_purchase_avg, on='Occupation', how='inner')\n",
        "df_temp"
      ]
    },
    {
      "cell_type": "code",
      "source": [
        "sns.barplot(data = df_temp, x = 'Occupation', y = 'AvgPurchase')"
      ],
      "metadata": {
        "colab": {
          "base_uri": "https://localhost:8080/",
          "height": 466
        },
        "id": "wFiRKeS7SZEB",
        "outputId": "dbb611b8-8065-498d-91fb-c995b143b150"
      },
      "execution_count": null,
      "outputs": [
        {
          "output_type": "execute_result",
          "data": {
            "text/plain": [
              "<Axes: xlabel='Occupation', ylabel='AvgPurchase'>"
            ]
          },
          "metadata": {},
          "execution_count": 87
        },
        {
          "output_type": "display_data",
          "data": {
            "text/plain": [
              "<Figure size 640x480 with 1 Axes>"
            ],
            "image/png": "[encoded data removed]"
          },
          "metadata": {}
        }
      ]
    },
    {
      "cell_type": "markdown",
      "source": [
        "**The average purchase of people with all occupations has been in the range of 8000 to 10000.**"
      ],
      "metadata": {
        "id": "RxWLENHP4i7l"
      }
    },
    {
      "cell_type": "markdown",
      "source": [
        "## **Analysis of Gender v/s Purchase**"
      ],
      "metadata": {
        "id": "thh-ysoZXhfV"
      }
    },
    {
      "cell_type": "code",
      "execution_count": null,
      "metadata": {
        "colab": {
          "base_uri": "https://localhost:8080/",
          "height": 425
        },
        "id": "KDlWUNn69Qcz",
        "outputId": "290bc5b8-9299-4205-c70f-42856bdb5e11"
      },
      "outputs": [
        {
          "output_type": "execute_result",
          "data": {
            "text/plain": [
              "Gender                F       M     All\n",
              "Purchase_binned                        \n",
              "1                 10237   26607   36844\n",
              "2                 13966   43951   57917\n",
              "3                 36447   95830  132277\n",
              "4                 28133   76883  105016\n",
              "5                 18555   58920   77475\n",
              "6                  6853   22548   29401\n",
              "7                 12617   52110   64727\n",
              "8                  2576   11092   13668\n",
              "9                  5887   24506   30393\n",
              "10                  538    1812    2350\n",
              "All              135809  414259  550068"
            ],
            "text/html": [
              "\n",
              "\n",
              "  <div id=\"df-1a6cbf9b-eddf-4544-8b98-91505e3a4fbd\">\n",
              "    <div class=\"colab-df-container\">\n",
              "      <div>\n",
              "<style scoped>\n",
              "    .dataframe tbody tr th:only-of-type {\n",
              "        vertical-align: middle;\n",
              "    }\n",
              "\n",
              "    .dataframe tbody tr th {\n",
              "        vertical-align: top;\n",
              "    }\n",
              "\n",
              "    .dataframe thead th {\n",
              "        text-align: right;\n",
              "    }\n",
              "</style>\n",
              "<table border=\"1\" class=\"dataframe\">\n",
              "  <thead>\n",
              "    <tr style=\"text-align: right;\">\n",
              "      <th>Gender</th>\n",
              "      <th>F</th>\n",
              "      <th>M</th>\n",
              "      <th>All</th>\n",
              "    </tr>\n",
              "    <tr>\n",
              "      <th>Purchase_binned</th>\n",
              "      <th></th>\n",
              "      <th></th>\n",
              "      <th></th>\n",
              "    </tr>\n",
              "  </thead>\n",
              "  <tbody>\n",
              "    <tr>\n",
              "      <th>1</th>\n",
              "      <td>10237</td>\n",
              "      <td>26607</td>\n",
              "      <td>36844</td>\n",
              "    </tr>\n",
              "    <tr>\n",
              "      <th>2</th>\n",
              "      <td>13966</td>\n",
              "      <td>43951</td>\n",
              "      <td>57917</td>\n",
              "    </tr>\n",
              "    <tr>\n",
              "      <th>3</th>\n",
              "      <td>36447</td>\n",
              "      <td>95830</td>\n",
              "      <td>132277</td>\n",
              "    </tr>\n",
              "    <tr>\n",
              "      <th>4</th>\n",
              "      <td>28133</td>\n",
              "      <td>76883</td>\n",
              "      <td>105016</td>\n",
              "    </tr>\n",
              "    <tr>\n",
              "      <th>5</th>\n",
              "      <td>18555</td>\n",
              "      <td>58920</td>\n",
              "      <td>77475</td>\n",
              "    </tr>\n",
              "    <tr>\n",
              "      <th>6</th>\n",
              "      <td>6853</td>\n",
              "      <td>22548</td>\n",
              "      <td>29401</td>\n",
              "    </tr>\n",
              "    <tr>\n",
              "      <th>7</th>\n",
              "      <td>12617</td>\n",
              "      <td>52110</td>\n",
              "      <td>64727</td>\n",
              "    </tr>\n",
              "    <tr>\n",
              "      <th>8</th>\n",
              "      <td>2576</td>\n",
              "      <td>11092</td>\n",
              "      <td>13668</td>\n",
              "    </tr>\n",
              "    <tr>\n",
              "      <th>9</th>\n",
              "      <td>5887</td>\n",
              "      <td>24506</td>\n",
              "      <td>30393</td>\n",
              "    </tr>\n",
              "    <tr>\n",
              "      <th>10</th>\n",
              "      <td>538</td>\n",
              "      <td>1812</td>\n",
              "      <td>2350</td>\n",
              "    </tr>\n",
              "    <tr>\n",
              "      <th>All</th>\n",
              "      <td>135809</td>\n",
              "      <td>414259</td>\n",
              "      <td>550068</td>\n",
              "    </tr>\n",
              "  </tbody>\n",
              "</table>\n",
              "</div>\n",
              "      <button class=\"colab-df-convert\" onclick=\"convertToInteractive('df-1a6cbf9b-eddf-4544-8b98-91505e3a4fbd')\"\n",
              "              title=\"Convert this dataframe to an interactive table.\"\n",
              "              style=\"display:none;\">\n",
              "\n",
              "  <svg xmlns=\"http://www.w3.org/2000/svg\" height=\"24px\"viewBox=\"0 0 24 24\"\n",
              "       width=\"24px\">\n",
              "    <path d=\"M0 0h24v24H0V0z\" fill=\"none\"/>\n",
              "    <path d=\"M18.56 5.44l.94 2.06.94-2.06 2.06-.94-2.06-.94-.94-2.06-.94 2.06-2.06.94zm-11 1L8.5 8.5l.94-2.06 2.06-.94-2.06-.94L8.5 2.5l-.94 2.06-2.06.94zm10 10l.94 2.06.94-2.06 2.06-.94-2.06-.94-.94-2.06-.94 2.06-2.06.94z\"/><path d=\"M17.41 7.96l-1.37-1.37c-.4-.4-.92-.59-1.43-.59-.52 0-1.04.2-1.43.59L10.3 9.45l-7.72 7.72c-.78.78-.78 2.05 0 2.83L4 21.41c.39.39.9.59 1.41.59.51 0 1.02-.2 1.41-.59l7.78-7.78 2.81-2.81c.8-.78.8-2.07 0-2.86zM5.41 20L4 18.59l7.72-7.72 1.47 1.35L5.41 20z\"/>\n",
              "  </svg>\n",
              "      </button>\n",
              "\n",
              "\n",
              "\n",
              "    <div id=\"df-d2ff8822-102e-491d-a832-dcc4b42d758a\">\n",
              "      <button class=\"colab-df-quickchart\" onclick=\"quickchart('df-d2ff8822-102e-491d-a832-dcc4b42d758a')\"\n",
              "              title=\"Suggest charts.\"\n",
              "              style=\"display:none;\">\n",
              "\n",
              "<svg xmlns=\"http://www.w3.org/2000/svg\" height=\"24px\"viewBox=\"0 0 24 24\"\n",
              "     width=\"24px\">\n",
              "    <g>\n",
              "        <path d=\"M19 3H5c-1.1 0-2 .9-2 2v14c0 1.1.9 2 2 2h14c1.1 0 2-.9 2-2V5c0-1.1-.9-2-2-2zM9 17H7v-7h2v7zm4 0h-2V7h2v10zm4 0h-2v-4h2v4z\"/>\n",
              "    </g>\n",
              "</svg>\n",
              "      </button>\n",
              "    </div>\n",
              "\n",
              "<style>\n",
              "  .colab-df-quickchart {\n",
              "    background-color: #E8F0FE;\n",
              "    border: none;\n",
              "    border-radius: 50%;\n",
              "    cursor: pointer;\n",
              "    display: none;\n",
              "    fill: #1967D2;\n",
              "    height: 32px;\n",
              "    padding: 0 0 0 0;\n",
              "    width: 32px;\n",
              "  }\n",
              "\n",
              "  .colab-df-quickchart:hover {\n",
              "    background-color: #E2EBFA;\n",
              "    box-shadow: 0px 1px 2px rgba(60, 64, 67, 0.3), 0px 1px 3px 1px rgba(60, 64, 67, 0.15);\n",
              "    fill: #174EA6;\n",
              "  }\n",
              "\n",
              "  [theme=dark] .colab-df-quickchart {\n",
              "    background-color: #3B4455;\n",
              "    fill: #D2E3FC;\n",
              "  }\n",
              "\n",
              "  [theme=dark] .colab-df-quickchart:hover {\n",
              "    background-color: #434B5C;\n",
              "    box-shadow: 0px 1px 3px 1px rgba(0, 0, 0, 0.15);\n",
              "    filter: drop-shadow(0px 1px 2px rgba(0, 0, 0, 0.3));\n",
              "    fill: #FFFFFF;\n",
              "  }\n",
              "</style>\n",
              "\n",
              "    <script>\n",
              "      async function quickchart(key) {\n",
              "        const containerElement = document.querySelector('#' + key);\n",
              "        const charts = await google.colab.kernel.invokeFunction(\n",
              "            'suggestCharts', [key], {});\n",
              "      }\n",
              "    </script>\n",
              "\n",
              "\n",
              "      <script>\n",
              "\n",
              "function displayQuickchartButton(domScope) {\n",
              "  let quickchartButtonEl =\n",
              "    domScope.querySelector('#df-d2ff8822-102e-491d-a832-dcc4b42d758a button.colab-df-quickchart');\n",
              "  quickchartButtonEl.style.display =\n",
              "    google.colab.kernel.accessAllowed ? 'block' : 'none';\n",
              "}\n",
              "\n",
              "        displayQuickchartButton(document);\n",
              "      </script>\n",
              "      <style>\n",
              "    .colab-df-container {\n",
              "      display:flex;\n",
              "      flex-wrap:wrap;\n",
              "      gap: 12px;\n",
              "    }\n",
              "\n",
              "    .colab-df-convert {\n",
              "      background-color: #E8F0FE;\n",
              "      border: none;\n",
              "      border-radius: 50%;\n",
              "      cursor: pointer;\n",
              "      display: none;\n",
              "      fill: #1967D2;\n",
              "      height: 32px;\n",
              "      padding: 0 0 0 0;\n",
              "      width: 32px;\n",
              "    }\n",
              "\n",
              "    .colab-df-convert:hover {\n",
              "      background-color: #E2EBFA;\n",
              "      box-shadow: 0px 1px 2px rgba(60, 64, 67, 0.3), 0px 1px 3px 1px rgba(60, 64, 67, 0.15);\n",
              "      fill: #174EA6;\n",
              "    }\n",
              "\n",
              "    [theme=dark] .colab-df-convert {\n",
              "      background-color: #3B4455;\n",
              "      fill: #D2E3FC;\n",
              "    }\n",
              "\n",
              "    [theme=dark] .colab-df-convert:hover {\n",
              "      background-color: #434B5C;\n",
              "      box-shadow: 0px 1px 3px 1px rgba(0, 0, 0, 0.15);\n",
              "      filter: drop-shadow(0px 1px 2px rgba(0, 0, 0, 0.3));\n",
              "      fill: #FFFFFF;\n",
              "    }\n",
              "  </style>\n",
              "\n",
              "      <script>\n",
              "        const buttonEl =\n",
              "          document.querySelector('#df-1a6cbf9b-eddf-4544-8b98-91505e3a4fbd button.colab-df-convert');\n",
              "        buttonEl.style.display =\n",
              "          google.colab.kernel.accessAllowed ? 'block' : 'none';\n",
              "\n",
              "        async function convertToInteractive(key) {\n",
              "          const element = document.querySelector('#df-1a6cbf9b-eddf-4544-8b98-91505e3a4fbd');\n",
              "          const dataTable =\n",
              "            await google.colab.kernel.invokeFunction('convertToInteractive',\n",
              "                                                     [key], {});\n",
              "          if (!dataTable) return;\n",
              "\n",
              "          const docLinkHtml = 'Like what you see? Visit the ' +\n",
              "            '<a target=\"_blank\" href=https://colab.research.google.com/notebooks/data_table.ipynb>data table notebook</a>'\n",
              "            + ' to learn more about interactive tables.';\n",
              "          element.innerHTML = '';\n",
              "          dataTable['output_type'] = 'display_data';\n",
              "          await google.colab.output.renderOutput(dataTable, element);\n",
              "          const docLink = document.createElement('div');\n",
              "          docLink.innerHTML = docLinkHtml;\n",
              "          element.appendChild(docLink);\n",
              "        }\n",
              "      </script>\n",
              "    </div>\n",
              "  </div>\n"
            ]
          },
          "metadata": {},
          "execution_count": 88
        }
      ],
      "source": [
        "df_gender_purchase_stats = pd.crosstab(df['Purchase_binned'], df['Gender'], margins = True)\n",
        "df_gender_purchase_stats"
      ]
    },
    {
      "cell_type": "code",
      "execution_count": null,
      "metadata": {
        "colab": {
          "base_uri": "https://localhost:8080/",
          "height": 394
        },
        "id": "99-9N6s89QgJ",
        "outputId": "cea54c00-94f2-4117-e1e8-59740d536f71"
      },
      "outputs": [
        {
          "output_type": "execute_result",
          "data": {
            "text/plain": [
              "Gender                  F         M       All\n",
              "Purchase_binned                              \n",
              "1                0.075378  0.064228  0.066981\n",
              "2                0.102836  0.106095  0.105291\n",
              "3                0.268370  0.231329  0.240474\n",
              "4                0.207151  0.185592  0.190915\n",
              "5                0.136626  0.142230  0.140846\n",
              "6                0.050461  0.054430  0.053450\n",
              "7                0.092903  0.125791  0.117671\n",
              "8                0.018968  0.026776  0.024848\n",
              "9                0.043348  0.059156  0.055253\n",
              "10               0.003961  0.004374  0.004272"
            ],
            "text/html": [
              "\n",
              "\n",
              "  <div id=\"df-a9b894e1-b69e-4cd3-a279-33e5f179f0bb\">\n",
              "    <div class=\"colab-df-container\">\n",
              "      <div>\n",
              "<style scoped>\n",
              "    .dataframe tbody tr th:only-of-type {\n",
              "        vertical-align: middle;\n",
              "    }\n",
              "\n",
              "    .dataframe tbody tr th {\n",
              "        vertical-align: top;\n",
              "    }\n",
              "\n",
              "    .dataframe thead th {\n",
              "        text-align: right;\n",
              "    }\n",
              "</style>\n",
              "<table border=\"1\" class=\"dataframe\">\n",
              "  <thead>\n",
              "    <tr style=\"text-align: right;\">\n",
              "      <th>Gender</th>\n",
              "      <th>F</th>\n",
              "      <th>M</th>\n",
              "      <th>All</th>\n",
              "    </tr>\n",
              "    <tr>\n",
              "      <th>Purchase_binned</th>\n",
              "      <th></th>\n",
              "      <th></th>\n",
              "      <th></th>\n",
              "    </tr>\n",
              "  </thead>\n",
              "  <tbody>\n",
              "    <tr>\n",
              "      <th>1</th>\n",
              "      <td>0.075378</td>\n",
              "      <td>0.064228</td>\n",
              "      <td>0.066981</td>\n",
              "    </tr>\n",
              "    <tr>\n",
              "      <th>2</th>\n",
              "      <td>0.102836</td>\n",
              "      <td>0.106095</td>\n",
              "      <td>0.105291</td>\n",
              "    </tr>\n",
              "    <tr>\n",
              "      <th>3</th>\n",
              "      <td>0.268370</td>\n",
              "      <td>0.231329</td>\n",
              "      <td>0.240474</td>\n",
              "    </tr>\n",
              "    <tr>\n",
              "      <th>4</th>\n",
              "      <td>0.207151</td>\n",
              "      <td>0.185592</td>\n",
              "      <td>0.190915</td>\n",
              "    </tr>\n",
              "    <tr>\n",
              "      <th>5</th>\n",
              "      <td>0.136626</td>\n",
              "      <td>0.142230</td>\n",
              "      <td>0.140846</td>\n",
              "    </tr>\n",
              "    <tr>\n",
              "      <th>6</th>\n",
              "      <td>0.050461</td>\n",
              "      <td>0.054430</td>\n",
              "      <td>0.053450</td>\n",
              "    </tr>\n",
              "    <tr>\n",
              "      <th>7</th>\n",
              "      <td>0.092903</td>\n",
              "      <td>0.125791</td>\n",
              "      <td>0.117671</td>\n",
              "    </tr>\n",
              "    <tr>\n",
              "      <th>8</th>\n",
              "      <td>0.018968</td>\n",
              "      <td>0.026776</td>\n",
              "      <td>0.024848</td>\n",
              "    </tr>\n",
              "    <tr>\n",
              "      <th>9</th>\n",
              "      <td>0.043348</td>\n",
              "      <td>0.059156</td>\n",
              "      <td>0.055253</td>\n",
              "    </tr>\n",
              "    <tr>\n",
              "      <th>10</th>\n",
              "      <td>0.003961</td>\n",
              "      <td>0.004374</td>\n",
              "      <td>0.004272</td>\n",
              "    </tr>\n",
              "  </tbody>\n",
              "</table>\n",
              "</div>\n",
              "      <button class=\"colab-df-convert\" onclick=\"convertToInteractive('df-a9b894e1-b69e-4cd3-a279-33e5f179f0bb')\"\n",
              "              title=\"Convert this dataframe to an interactive table.\"\n",
              "              style=\"display:none;\">\n",
              "\n",
              "  <svg xmlns=\"http://www.w3.org/2000/svg\" height=\"24px\"viewBox=\"0 0 24 24\"\n",
              "       width=\"24px\">\n",
              "    <path d=\"M0 0h24v24H0V0z\" fill=\"none\"/>\n",
              "    <path d=\"M18.56 5.44l.94 2.06.94-2.06 2.06-.94-2.06-.94-.94-2.06-.94 2.06-2.06.94zm-11 1L8.5 8.5l.94-2.06 2.06-.94-2.06-.94L8.5 2.5l-.94 2.06-2.06.94zm10 10l.94 2.06.94-2.06 2.06-.94-2.06-.94-.94-2.06-.94 2.06-2.06.94z\"/><path d=\"M17.41 7.96l-1.37-1.37c-.4-.4-.92-.59-1.43-.59-.52 0-1.04.2-1.43.59L10.3 9.45l-7.72 7.72c-.78.78-.78 2.05 0 2.83L4 21.41c.39.39.9.59 1.41.59.51 0 1.02-.2 1.41-.59l7.78-7.78 2.81-2.81c.8-.78.8-2.07 0-2.86zM5.41 20L4 18.59l7.72-7.72 1.47 1.35L5.41 20z\"/>\n",
              "  </svg>\n",
              "      </button>\n",
              "\n",
              "\n",
              "\n",
              "    <div id=\"df-e45b91f9-d1cd-49da-9a5a-ba1e1e0407f2\">\n",
              "      <button class=\"colab-df-quickchart\" onclick=\"quickchart('df-e45b91f9-d1cd-49da-9a5a-ba1e1e0407f2')\"\n",
              "              title=\"Suggest charts.\"\n",
              "              style=\"display:none;\">\n",
              "\n",
              "<svg xmlns=\"http://www.w3.org/2000/svg\" height=\"24px\"viewBox=\"0 0 24 24\"\n",
              "     width=\"24px\">\n",
              "    <g>\n",
              "        <path d=\"M19 3H5c-1.1 0-2 .9-2 2v14c0 1.1.9 2 2 2h14c1.1 0 2-.9 2-2V5c0-1.1-.9-2-2-2zM9 17H7v-7h2v7zm4 0h-2V7h2v10zm4 0h-2v-4h2v4z\"/>\n",
              "    </g>\n",
              "</svg>\n",
              "      </button>\n",
              "    </div>\n",
              "\n",
              "<style>\n",
              "  .colab-df-quickchart {\n",
              "    background-color: #E8F0FE;\n",
              "    border: none;\n",
              "    border-radius: 50%;\n",
              "    cursor: pointer;\n",
              "    display: none;\n",
              "    fill: #1967D2;\n",
              "    height: 32px;\n",
              "    padding: 0 0 0 0;\n",
              "    width: 32px;\n",
              "  }\n",
              "\n",
              "  .colab-df-quickchart:hover {\n",
              "    background-color: #E2EBFA;\n",
              "    box-shadow: 0px 1px 2px rgba(60, 64, 67, 0.3), 0px 1px 3px 1px rgba(60, 64, 67, 0.15);\n",
              "    fill: #174EA6;\n",
              "  }\n",
              "\n",
              "  [theme=dark] .colab-df-quickchart {\n",
              "    background-color: #3B4455;\n",
              "    fill: #D2E3FC;\n",
              "  }\n",
              "\n",
              "  [theme=dark] .colab-df-quickchart:hover {\n",
              "    background-color: #434B5C;\n",
              "    box-shadow: 0px 1px 3px 1px rgba(0, 0, 0, 0.15);\n",
              "    filter: drop-shadow(0px 1px 2px rgba(0, 0, 0, 0.3));\n",
              "    fill: #FFFFFF;\n",
              "  }\n",
              "</style>\n",
              "\n",
              "    <script>\n",
              "      async function quickchart(key) {\n",
              "        const containerElement = document.querySelector('#' + key);\n",
              "        const charts = await google.colab.kernel.invokeFunction(\n",
              "            'suggestCharts', [key], {});\n",
              "      }\n",
              "    </script>\n",
              "\n",
              "\n",
              "      <script>\n",
              "\n",
              "function displayQuickchartButton(domScope) {\n",
              "  let quickchartButtonEl =\n",
              "    domScope.querySelector('#df-e45b91f9-d1cd-49da-9a5a-ba1e1e0407f2 button.colab-df-quickchart');\n",
              "  quickchartButtonEl.style.display =\n",
              "    google.colab.kernel.accessAllowed ? 'block' : 'none';\n",
              "}\n",
              "\n",
              "        displayQuickchartButton(document);\n",
              "      </script>\n",
              "      <style>\n",
              "    .colab-df-container {\n",
              "      display:flex;\n",
              "      flex-wrap:wrap;\n",
              "      gap: 12px;\n",
              "    }\n",
              "\n",
              "    .colab-df-convert {\n",
              "      background-color: #E8F0FE;\n",
              "      border: none;\n",
              "      border-radius: 50%;\n",
              "      cursor: pointer;\n",
              "      display: none;\n",
              "      fill: #1967D2;\n",
              "      height: 32px;\n",
              "      padding: 0 0 0 0;\n",
              "      width: 32px;\n",
              "    }\n",
              "\n",
              "    .colab-df-convert:hover {\n",
              "      background-color: #E2EBFA;\n",
              "      box-shadow: 0px 1px 2px rgba(60, 64, 67, 0.3), 0px 1px 3px 1px rgba(60, 64, 67, 0.15);\n",
              "      fill: #174EA6;\n",
              "    }\n",
              "\n",
              "    [theme=dark] .colab-df-convert {\n",
              "      background-color: #3B4455;\n",
              "      fill: #D2E3FC;\n",
              "    }\n",
              "\n",
              "    [theme=dark] .colab-df-convert:hover {\n",
              "      background-color: #434B5C;\n",
              "      box-shadow: 0px 1px 3px 1px rgba(0, 0, 0, 0.15);\n",
              "      filter: drop-shadow(0px 1px 2px rgba(0, 0, 0, 0.3));\n",
              "      fill: #FFFFFF;\n",
              "    }\n",
              "  </style>\n",
              "\n",
              "      <script>\n",
              "        const buttonEl =\n",
              "          document.querySelector('#df-a9b894e1-b69e-4cd3-a279-33e5f179f0bb button.colab-df-convert');\n",
              "        buttonEl.style.display =\n",
              "          google.colab.kernel.accessAllowed ? 'block' : 'none';\n",
              "\n",
              "        async function convertToInteractive(key) {\n",
              "          const element = document.querySelector('#df-a9b894e1-b69e-4cd3-a279-33e5f179f0bb');\n",
              "          const dataTable =\n",
              "            await google.colab.kernel.invokeFunction('convertToInteractive',\n",
              "                                                     [key], {});\n",
              "          if (!dataTable) return;\n",
              "\n",
              "          const docLinkHtml = 'Like what you see? Visit the ' +\n",
              "            '<a target=\"_blank\" href=https://colab.research.google.com/notebooks/data_table.ipynb>data table notebook</a>'\n",
              "            + ' to learn more about interactive tables.';\n",
              "          element.innerHTML = '';\n",
              "          dataTable['output_type'] = 'display_data';\n",
              "          await google.colab.output.renderOutput(dataTable, element);\n",
              "          const docLink = document.createElement('div');\n",
              "          docLink.innerHTML = docLinkHtml;\n",
              "          element.appendChild(docLink);\n",
              "        }\n",
              "      </script>\n",
              "    </div>\n",
              "  </div>\n"
            ]
          },
          "metadata": {},
          "execution_count": 89
        }
      ],
      "source": [
        "df_gender_purchase_normalised = pd.crosstab(index=df['Purchase_binned'], columns=df['Gender'], margins = True, normalize = 'columns')\n",
        "df_gender_purchase_normalised"
      ]
    },
    {
      "cell_type": "markdown",
      "source": [
        "**We can check if the purchase is dependent on the gender by having a chi square test of independence where the two categorical data are 'Gender' and 'Purchase_binned'.**\n",
        "\n",
        "**Ho : The two columns are independent.**\n",
        "\n",
        "**Ha : The two columns are dependent.**\n",
        "\n",
        "**We take 95% confidence interval for all analyses here.**"
      ],
      "metadata": {
        "id": "grc8N3CQYaLX"
      }
    },
    {
      "cell_type": "code",
      "execution_count": null,
      "metadata": {
        "colab": {
          "base_uri": "https://localhost:8080/"
        },
        "id": "r4JSZSu49QWG",
        "outputId": "658ac5f2-96fd-40f1-a8bd-39989d3c2118"
      },
      "outputs": [
        {
          "output_type": "stream",
          "name": "stdout",
          "text": [
            "p_value:  0.0\n",
            "The Gender and Purchase columns are dependent (Reject Ho).\n"
          ]
        }
      ],
      "source": [
        "chi_stat, p_value, dof, expected_values = chi2_contingency(df_gender_purchase_stats[['F', 'M']].iloc[:-1:, ::])\n",
        "print(\"p_value: \", p_value)\n",
        "\n",
        "alpha = 0.05\n",
        "\n",
        "if p_value > alpha :\n",
        "  print(\"The Gender and Purchase columns are independent (Fail to reject Ho).\")\n",
        "else :\n",
        "  print(\"The Gender and Purchase columns are dependent (Reject Ho).\")"
      ]
    },
    {
      "cell_type": "markdown",
      "metadata": {
        "id": "iaM3j-5k9TmY"
      },
      "source": [
        "**From the chi-square test, we see that purchase is indeed dependent on the gender.**"
      ]
    },
    {
      "cell_type": "code",
      "source": [
        "# Plotting the density function for the genders.\n",
        "sns.kdeplot(df[df['Gender'] == 'M']['Purchase'], label = 'Male')\n",
        "sns.kdeplot(df[df['Gender'] == 'F']['Purchase'], label = 'Female')\n",
        "plt.legend()"
      ],
      "metadata": {
        "colab": {
          "base_uri": "https://localhost:8080/",
          "height": 466
        },
        "id": "MzpIhaYRZld4",
        "outputId": "64b6cd20-e5bc-4fa5-b62d-38722194e31d"
      },
      "execution_count": null,
      "outputs": [
        {
          "output_type": "execute_result",
          "data": {
            "text/plain": [
              "<matplotlib.legend.Legend at 0x79aeb7c8b9a0>"
            ]
          },
          "metadata": {},
          "execution_count": 91
        },
        {
          "output_type": "display_data",
          "data": {
            "text/plain": [
              "<Figure size 640x480 with 1 Axes>"
            ],
            "image/png": "[encoded data removed]"
          },
          "metadata": {}
        }
      ]
    },
    {
      "cell_type": "markdown",
      "source": [
        "**We see that the data is not normally distributed. We take samples from the available data and take their means. According to CLT, the means will be normally distributed and we can then move forward with the t-test.**"
      ],
      "metadata": {
        "id": "MxFLuX2ebv_c"
      }
    },
    {
      "cell_type": "code",
      "source": [
        "# Taking samples means of males and females. We take two sample sizes for comparison.\n",
        "sample_female_20 = [np.mean(df[df['Gender'] == 'F'][\"Purchase\"].sample(20)) for i in range(1000)]\n",
        "sample_male_20 = [np.mean(df[df['Gender'] == 'M'][\"Purchase\"].sample(20)) for i in range(1000)]\n",
        "\n",
        "sample_female_50 = [np.mean(df[df['Gender'] == 'F'][\"Purchase\"].sample(50)) for i in range(1000)]\n",
        "sample_male_50 = [np.mean(df[df['Gender'] == 'M'][\"Purchase\"].sample(50)) for i in range(1000)]"
      ],
      "metadata": {
        "id": "nwk7L8L1dN-I"
      },
      "execution_count": null,
      "outputs": []
    },
    {
      "cell_type": "code",
      "source": [
        "# Taking means, std errors and intervals of the sample means\n",
        "sample_mean_female_20 = np.mean(sample_female_20) # sample mean gives an idea of the population mean\n",
        "sample_stddev_female_20 = np.std(sample_female_20)\n",
        "interval_95_female_20 = norm.interval(0.95, loc = sample_mean_female_20, scale = sample_stddev_female_20)\n",
        "interval_99_female_20 = norm.interval(0.99, loc = sample_mean_female_20, scale = sample_stddev_female_20)\n",
        "\n",
        "print(\"For Female with sample size 20:\")\n",
        "print(\"Sample mean:\", sample_mean_female_20)\n",
        "print(\"Sample std dev:\", sample_stddev_female_20)\n",
        "print(\"95% confidence interval:\", interval_95_female_20)\n",
        "print(\"99% confidence interval:\", interval_99_female_20)\n",
        "print()\n",
        "\n",
        "print(\"For Male with sample size 20:\")\n",
        "sample_mean_male_20 = np.mean(sample_male_20)\n",
        "sample_stddev_male_20 = np.std(sample_male_20)\n",
        "interval_95_male_20 = norm.interval(0.95, loc = sample_mean_male_20, scale = sample_stddev_male_20)\n",
        "interval_99_male_20 = norm.interval(0.99, loc = sample_mean_male_20, scale = sample_stddev_male_20)\n",
        "\n",
        "print(\"Sample mean:\", sample_mean_male_20)\n",
        "print(\"Sample std dev:\", sample_stderr_male_20)\n",
        "print(\"95% confidence interval:\", interval_95_male_20)\n",
        "print(\"99% confidence interval:\", interval_99_male_20)"
      ],
      "metadata": {
        "id": "pDSEQTZZwgUO",
        "colab": {
          "base_uri": "https://localhost:8080/"
        },
        "outputId": "103ea764-9066-4d19-cb01-609a0d8350b6"
      },
      "execution_count": null,
      "outputs": [
        {
          "output_type": "stream",
          "name": "stdout",
          "text": [
            "For Female with sample size 20:\n",
            "Sample mean: 8752.568600000002\n",
            "Sample std dev: 1074.8336258645054\n",
            "95% confidence interval: (6645.933403932973, 10859.203796067031)\n",
            "99% confidence interval: (5983.980650058495, 11521.15654994151)\n",
            "\n",
            "For Male with sample size 20:\n",
            "Sample mean: 9409.7442\n",
            "Sample std dev: 265.05826778949563\n",
            "95% confidence interval: (7086.448737163233, 11733.039662836765)\n",
            "99% confidence interval: (6356.41639337629, 12463.072006623708)\n"
          ]
        }
      ]
    },
    {
      "cell_type": "code",
      "execution_count": null,
      "metadata": {
        "id": "ukbBZD-FzYvS",
        "colab": {
          "base_uri": "https://localhost:8080/"
        },
        "outputId": "f9427f50-6865-4021-a9bd-f757ea3e117e"
      },
      "outputs": [
        {
          "output_type": "stream",
          "name": "stdout",
          "text": [
            "For Female with sample size 50:\n",
            "Sample mean: 8678.411600000001\n",
            "Sample std dev: 99.84837237714393\n",
            "95% confidence interval: (7294.609188674256, 10062.214011325746)\n",
            "99% confidence interval: (6859.786957133948, 10497.036242866056)\n",
            "\n",
            "For Male with sample size 50:\n",
            "Sample mean: 9423.249679999999\n",
            "Sample std dev: 103.69622678079443\n",
            "95% confidence interval: (7986.119707338654, 10860.379652661344)\n",
            "99% confidence interval: (7534.540741576201, 11311.958618423796)\n"
          ]
        }
      ],
      "source": [
        "# Taking means, std errors and intervals of the sample means\n",
        "sample_mean_female_50 = np.mean(sample_female_50)\n",
        "sample_stddev_female_50 = np.std(sample_female_50)\n",
        "interval_95_female_50 = norm.interval(0.95, loc = sample_mean_female_50, scale = sample_stddev_female_50)\n",
        "interval_99_female_50 = norm.interval(0.99, loc = sample_mean_female_50, scale = sample_stddev_female_50)\n",
        "\n",
        "print(\"For Female with sample size 50:\")\n",
        "print(\"Sample mean:\", sample_mean_female_50)\n",
        "print(\"Sample std dev:\", sample_stderr_female_50)\n",
        "print(\"95% confidence interval:\", interval_95_female_50)\n",
        "print(\"99% confidence interval:\", interval_99_female_50)\n",
        "print()\n",
        "\n",
        "\n",
        "sample_mean_male_50 = np.mean(sample_male_50)\n",
        "sample_stddev_male_50 = np.std(sample_male_50)\n",
        "interval_95_male_50 = norm.interval(0.95, loc = sample_mean_male_50, scale = sample_stddev_male_50)\n",
        "interval_99_male_50 = norm.interval(0.99, loc = sample_mean_male_50, scale = sample_stddev_male_50)\n",
        "\n",
        "print(\"For Male with sample size 50:\")\n",
        "print(\"Sample mean:\", sample_mean_male_50)\n",
        "print(\"Sample std dev:\", sample_stderr_male_50)\n",
        "print(\"95% confidence interval:\", interval_95_male_50)\n",
        "print(\"99% confidence interval:\", interval_99_male_50)"
      ]
    },
    {
      "cell_type": "markdown",
      "source": [
        "**The means for the sample sizes of 20 and 50 give us a similar result, while standard error reduces to a great extent when we take 50 samples. We can infer that the average amount for the purchase for female population will lie in the interval (7294.609, 10062.214). For males, this interval would be (7986.119, 10860.379). This can be said with 95% probability.**"
      ],
      "metadata": {
        "id": "neR68lQluzn3"
      }
    },
    {
      "cell_type": "code",
      "execution_count": null,
      "metadata": {
        "id": "6h0hYqf-zYq3",
        "colab": {
          "base_uri": "https://localhost:8080/",
          "height": 407
        },
        "outputId": "9f39222c-0fed-46f8-c8bc-91bdcdf722af"
      },
      "outputs": [
        {
          "output_type": "display_data",
          "data": {
            "text/plain": [
              "<Figure size 800x400 with 1 Axes>"
            ],
            "image/png": "[encoded data removed]"
          },
          "metadata": {}
        }
      ],
      "source": [
        "fig, ax = plt.subplots(figsize=(8, 4))\n",
        "sns.kdeplot(data = sample_male_50, color = 'limegreen', label = 'male', fill = True, ax = ax)\n",
        "sns.kdeplot(data = sample_female_50, color = 'crimson', label = 'female', fill = True, ax = ax)\n",
        "ax.legend()\n",
        "\n",
        "for i in interval_95_female_50:\n",
        "  plt.axvline(x = i, linestyle = '--', color = 'crimson')\n",
        "\n",
        "for i in interval_95_male_50:\n",
        "  plt.axvline(x = i, linestyle = '--', color = 'limegreen')\n",
        "\n",
        "plt.tight_layout()\n",
        "plt.show()"
      ]
    },
    {
      "cell_type": "markdown",
      "source": [
        "**The 95% confidence intervals of the sample means of the genders overlap for some area. Since men on an average spend more than women, the products can be accordingly marketed and kept in the store. Also, the items for women can be put up on discounts so that their spending increases.**"
      ],
      "metadata": {
        "id": "lgjvF_leh0Jq"
      }
    },
    {
      "cell_type": "markdown",
      "source": [
        "**We have sample means of the genders with us. We can go with the t-test now.**\n",
        "\n",
        "**Ho : The purchase amount of both the genders is the same.**\n",
        "\n",
        "**Ha : The purchase amount of males is more than the females.**"
      ],
      "metadata": {
        "id": "FoeEhk39iAwl"
      }
    },
    {
      "cell_type": "code",
      "source": [
        "tstat, p_value = ttest_ind(sample_male_50, sample_female_50, alternative = 'greater')\n",
        "\n",
        "print(\"tstat: \", tstat)\n",
        "print(\"p_value: \", p_value)\n",
        "\n",
        "alpha = 0.05\n",
        "\n",
        "if p_value > alpha :\n",
        "  print(\"The purchase amount of both the genders is the same (Fail to reject Ho).\")\n",
        "else :\n",
        "  print(\"The purchase amount of males is more than the females (Reject Ho).\")"
      ],
      "metadata": {
        "colab": {
          "base_uri": "https://localhost:8080/"
        },
        "id": "Pe6eKi0xnKQQ",
        "outputId": "848da1f3-d804-4b9e-e47a-288e2b791ca1"
      },
      "execution_count": null,
      "outputs": [
        {
          "output_type": "stream",
          "name": "stdout",
          "text": [
            "tstat:  23.127966006940007\n",
            "p_value:  2.3302542479112263e-105\n",
            "The purchase amount of males is more than the females (Reject Ho).\n"
          ]
        }
      ]
    },
    {
      "cell_type": "markdown",
      "source": [
        "## **Analysis of Marital Status v/s Purchase**"
      ],
      "metadata": {
        "id": "OPHRagjYudk9"
      }
    },
    {
      "cell_type": "code",
      "execution_count": null,
      "metadata": {
        "id": "mYjs0dEZzYh0",
        "colab": {
          "base_uri": "https://localhost:8080/",
          "height": 466
        },
        "outputId": "d63c01d5-039f-4761-a150-850c7d9c464f"
      },
      "outputs": [
        {
          "output_type": "execute_result",
          "data": {
            "text/plain": [
              "<matplotlib.legend.Legend at 0x79aeb77e7ac0>"
            ]
          },
          "metadata": {},
          "execution_count": 116
        },
        {
          "output_type": "display_data",
          "data": {
            "text/plain": [
              "<Figure size 640x480 with 1 Axes>"
            ],
            "image/png": "[encoded data removed]"
          },
          "metadata": {}
        }
      ],
      "source": [
        "# Plotting the density function for the marital status.\n",
        "sns.kdeplot(df[df['Marital_Status'] == 1]['Purchase'], label = 'Married')\n",
        "sns.kdeplot(df[df['Marital_Status'] == 0]['Purchase'], label = 'Unmarried')\n",
        "plt.legend()"
      ]
    },
    {
      "cell_type": "code",
      "execution_count": null,
      "metadata": {
        "id": "2yi-7iZ2zYf3"
      },
      "outputs": [],
      "source": [
        "# Taking samples means of males and females. We take two sample sizes for comparison.\n",
        "sample_marr_20 = [np.mean(df[df['Marital_Status'] == 1][\"Purchase\"].sample(20)) for i in range(1000)]\n",
        "sample_unmarr_20 = [np.mean(df[df['Marital_Status'] == 0][\"Purchase\"].sample(20)) for i in range(1000)]\n",
        "\n",
        "sample_marr_50 = [np.mean(df[df['Marital_Status'] == 1][\"Purchase\"].sample(50)) for i in range(1000)]\n",
        "sample_unmarr_50 = [np.mean(df[df['Marital_Status'] == 0][\"Purchase\"].sample(50)) for i in range(1000)]"
      ]
    },
    {
      "cell_type": "code",
      "execution_count": null,
      "metadata": {
        "id": "QCFl8eRazYdl",
        "colab": {
          "base_uri": "https://localhost:8080/"
        },
        "outputId": "78a987e0-3705-4c84-fc5a-8759674b362e"
      },
      "outputs": [
        {
          "output_type": "stream",
          "name": "stdout",
          "text": [
            "For married people with sample size 20:\n",
            "Sample mean: 9322.299050000001\n",
            "Sample std dev: 1119.208374125032\n",
            "95% confidence interval: (7128.690945519309, 11515.907154480694)\n",
            "\n",
            "For unmarried people with sample size 20:\n",
            "Sample mean: 9305.68145\n",
            "Sample std dev: 1096.0957092464132\n",
            "95% confidence interval: (7157.373336268143, 11453.989563731857)\n"
          ]
        }
      ],
      "source": [
        "# Taking means, std errors and intervals of the sample means\n",
        "sample_mean_marr_20 = np.mean(sample_marr_20)\n",
        "sample_stddev_marr_20 = np.std(sample_marr_20)\n",
        "interval_95_marr_20 = norm.interval(0.95, loc = sample_mean_marr_20, scale = sample_stddev_marr_20)\n",
        "\n",
        "print(\"For married people with sample size 20:\")\n",
        "print(\"Sample mean:\", sample_mean_marr_20)\n",
        "print(\"Sample std dev:\", sample_stddev_marr_20)\n",
        "print(\"95% confidence interval:\", interval_95_marr_20)\n",
        "print()\n",
        "\n",
        "print(\"For unmarried people with sample size 20:\")\n",
        "sample_mean_unmarr_20 = np.mean(sample_unmarr_20)\n",
        "sample_stddev_unmarr_20 = np.std(sample_unmarr_20)\n",
        "interval_95_unmarr_20 = norm.interval(0.95, loc = sample_mean_unmarr_20, scale = sample_stddev_unmarr_20)\n",
        "print(\"Sample mean:\", sample_mean_unmarr_20)\n",
        "print(\"Sample std dev:\", sample_stddev_unmarr_20)\n",
        "print(\"95% confidence interval:\", interval_95_unmarr_20)"
      ]
    },
    {
      "cell_type": "code",
      "execution_count": null,
      "metadata": {
        "id": "HbPsKI9lzYa_",
        "colab": {
          "base_uri": "https://localhost:8080/"
        },
        "outputId": "355e9204-4a6c-4109-9185-42be27c36a41"
      },
      "outputs": [
        {
          "output_type": "stream",
          "name": "stdout",
          "text": [
            "For married people with sample size 50:\n",
            "Sample mean: 9245.507520000001\n",
            "Sample std dev: 707.6888738293471\n",
            "95% confidence interval: (7858.462815034771, 10632.552224965231)\n",
            "99% confidence interval: (7422.621780994848, 11068.393259005154)\n",
            "\n",
            "For unmarried people with sample size 50:\n",
            "Sample mean: 9273.41212\n",
            "Sample std dev: 721.6491993828481\n",
            "95% confidence interval: (7859.005679737454, 10687.818560262547)\n",
            "99% confidence interval: (7414.566965347058, 11132.257274652944)\n"
          ]
        }
      ],
      "source": [
        "# Taking means, std errors and intervals of the sample means\n",
        "sample_mean_marr_50 = np.mean(sample_marr_50)\n",
        "sample_stddev_marr_50 = np.std(sample_marr_50)\n",
        "interval_95_marr_50 = norm.interval(0.95, loc = sample_mean_marr_50, scale = sample_stddev_marr_50)\n",
        "interval_99_marr_50 = norm.interval(0.99, loc = sample_mean_marr_50, scale = sample_stddev_marr_50)\n",
        "\n",
        "print(\"For married people with sample size 50:\")\n",
        "print(\"Sample mean:\", sample_mean_marr_50)\n",
        "print(\"Sample std dev:\", sample_stddev_marr_50)\n",
        "print(\"95% confidence interval:\", interval_95_marr_50)\n",
        "print(\"99% confidence interval:\", interval_99_marr_50)\n",
        "print()\n",
        "\n",
        "\n",
        "sample_mean_unmarr_50 = np.mean(sample_unmarr_50)\n",
        "sample_stddev_unmarr_50 = np.std(sample_unmarr_50)\n",
        "interval_95_unmarr_50 = norm.interval(0.95, loc = sample_mean_unmarr_50, scale = sample_stddev_unmarr_50)\n",
        "interval_99_unmarr_50 = norm.interval(0.99, loc = sample_mean_unmarr_50, scale = sample_stddev_unmarr_50)\n",
        "\n",
        "print(\"For unmarried people with sample size 50:\")\n",
        "print(\"Sample mean:\", sample_mean_unmarr_50)\n",
        "print(\"Sample std dev:\", sample_stddev_unmarr_50)\n",
        "print(\"95% confidence interval:\", interval_95_unmarr_50)\n",
        "print(\"99% confidence interval:\", interval_99_unmarr_50)"
      ]
    },
    {
      "cell_type": "markdown",
      "source": [
        "**The means for the sample sizes of 20 and 50 are similar, while standard error reduces to a great extent when we take 50 samples. We can infer that the average amount for the purchase for married population will lie in the interval (7858.463, 10632.552). For unmarried people, this interval would be (7859.006, 10687.818). This can be said with 95% probability.**"
      ],
      "metadata": {
        "id": "jxbDmzt3_iHY"
      }
    },
    {
      "cell_type": "code",
      "source": [
        "fig, ax = plt.subplots(figsize=(8, 4))\n",
        "sns.kdeplot(data = sample_unmarr_50, color = 'limegreen', label = 'Unmarried', fill = True, ax = ax)\n",
        "sns.kdeplot(data = sample_marr_50, color = 'crimson', label = 'Married', fill = True, ax = ax)\n",
        "ax.legend()\n",
        "\n",
        "for i in interval_95_marr_50:\n",
        "  plt.axvline(x = i, linestyle = '--', color = 'crimson')\n",
        "\n",
        "for i in interval_95_unmarr_50:\n",
        "  plt.axvline(x = i, linestyle = '--', color = 'limegreen')\n",
        "\n",
        "plt.tight_layout()\n",
        "plt.show()"
      ],
      "metadata": {
        "id": "6cbO9Vmzx4XF",
        "colab": {
          "base_uri": "https://localhost:8080/",
          "height": 407
        },
        "outputId": "e1a11b3e-dda1-43a4-d397-9caab1530509"
      },
      "execution_count": null,
      "outputs": [
        {
          "output_type": "display_data",
          "data": {
            "text/plain": [
              "<Figure size 800x400 with 1 Axes>"
            ],
            "image/png": "[encoded data removed]"
          },
          "metadata": {}
        }
      ]
    },
    {
      "cell_type": "markdown",
      "source": [
        "**The 95% confidence intervals of the sample means of the marital status feature almost coincide. This is expected to be the case since the average and the std error are not very different from each other. We will now confirm its significance from the t-test.**"
      ],
      "metadata": {
        "id": "p01oJLqfE4Md"
      }
    },
    {
      "cell_type": "markdown",
      "source": [
        "**Now that we have sample means of the marital status with us, can perform the t-test. The null and the alternate hypothesis are:**\n",
        "\n",
        "**Ho : The purchase amount of both type of people is the same.**\n",
        "\n",
        "**Ha : The purchase amount of unmarried people is more than the married people.**"
      ],
      "metadata": {
        "id": "Xjj9dRh0E3qs"
      }
    },
    {
      "cell_type": "code",
      "execution_count": null,
      "metadata": {
        "id": "D3f9EaT8zYY6",
        "colab": {
          "base_uri": "https://localhost:8080/"
        },
        "outputId": "1a9b5319-0799-4770-d370-72599ef99bba"
      },
      "outputs": [
        {
          "output_type": "stream",
          "name": "stdout",
          "text": [
            "p_value:  0.19149153971292765\n",
            "The purchase amount of both married and unmarried people is the same (Fail to reject Ho).\n"
          ]
        }
      ],
      "source": [
        "# tstat, p_value = ttest_ind(df[df['Gender'] == 'M'][\"Purchase\"], df[df['Gender'] == 'F'][\"Purchase\"], alternative = 'greater')\n",
        "tstat, p_value = ttest_ind(sample_unmarr_50, sample_marr_50, alternative = 'greater')\n",
        "\n",
        "print(\"p_value: \", p_value)\n",
        "\n",
        "alpha = 0.05\n",
        "\n",
        "if p_value > alpha :\n",
        "  print(\"The purchase amount of both married and unmarried people is the same (Fail to reject Ho).\")\n",
        "else :\n",
        "  print(\"The purchase amount of unmarried people is more than married people (Reject Ho).\")"
      ]
    },
    {
      "cell_type": "markdown",
      "source": [
        "## **Analysis of Age v/s Purchase**"
      ],
      "metadata": {
        "id": "F85EEJlAx2oF"
      }
    },
    {
      "cell_type": "code",
      "source": [
        "df['Age'].value_counts()"
      ],
      "metadata": {
        "colab": {
          "base_uri": "https://localhost:8080/"
        },
        "id": "jk4aXwtgFxjE",
        "outputId": "8e006da7-7b3f-4866-caec-9e16627641ba"
      },
      "execution_count": null,
      "outputs": [
        {
          "output_type": "execute_result",
          "data": {
            "text/plain": [
              "26-35    219587\n",
              "36-45    110013\n",
              "18-25     99660\n",
              "46-50     45701\n",
              "51-55     38501\n",
              "55+       21504\n",
              "0-17      15102\n",
              "Name: Age, dtype: int64"
            ]
          },
          "metadata": {},
          "execution_count": 122
        }
      ]
    },
    {
      "cell_type": "code",
      "source": [
        "# Plotting the density function for the marital status.\n",
        "sns.kdeplot(df[df['Age'] == '0-17']['Purchase'], label = '0-17')\n",
        "sns.kdeplot(df[df['Age'] == '18-25']['Purchase'], label = '18-25')\n",
        "sns.kdeplot(df[df['Age'] == '26-35']['Purchase'], label = '26-35')\n",
        "sns.kdeplot(df[df['Age'] == '36-45']['Purchase'], label = '36-45')\n",
        "sns.kdeplot(df[df['Age'] == '46-50']['Purchase'], label = '46-50')\n",
        "sns.kdeplot(df[df['Age'] == '51-55']['Purchase'], label = '51-55')\n",
        "sns.kdeplot(df[df['Age'] == '55+']['Purchase'], label = '55+')\n",
        "plt.legend()"
      ],
      "metadata": {
        "colab": {
          "base_uri": "https://localhost:8080/",
          "height": 466
        },
        "id": "jNSe8l9FFyJt",
        "outputId": "8c2bfe4e-8b89-4cf9-f48d-59f64035821a"
      },
      "execution_count": null,
      "outputs": [
        {
          "output_type": "execute_result",
          "data": {
            "text/plain": [
              "<matplotlib.legend.Legend at 0x79aeb80a8820>"
            ]
          },
          "metadata": {},
          "execution_count": 123
        },
        {
          "output_type": "display_data",
          "data": {
            "text/plain": [
              "<Figure size 640x480 with 1 Axes>"
            ],
            "image/png": "[encoded data removed]"
          },
          "metadata": {}
        }
      ]
    },
    {
      "cell_type": "markdown",
      "source": [
        "**We have sample means of the age groups with us. Since there are more than two categories here, we can move forward with is ANOVA. For ANOVA, we will check if the age categories have equal variances. We use levene test to check this.**\n",
        "\n",
        "**The null and the alternate hypothesis are:**\n",
        "\n",
        "**Ho : The variances are the same.**\n",
        "\n",
        "**Ha : The variances are different.**\n"
      ],
      "metadata": {
        "id": "ttpHfg1SHgtv"
      }
    },
    {
      "cell_type": "code",
      "source": [
        "l_test, p_value = levene(df[df['Age'] == '0-17']['Purchase'],\n",
        "                         df[df['Age'] == '18-25']['Purchase'],\n",
        "                         df[df['Age'] == '26-35']['Purchase'],\n",
        "                         df[df['Age'] == '36-45']['Purchase'],\n",
        "                         df[df['Age'] == '46-50']['Purchase'],\n",
        "                         df[df['Age'] == '51-55']['Purchase'],\n",
        "                         df[df['Age'] == '55+']['Purchase'])\n",
        "\n",
        "print(\"p_value: \", p_value)\n",
        "\n",
        "alpha = 0.05\n",
        "\n",
        "if p_value > alpha :\n",
        "  print(\"The variances are the same (Fail to reject Ho).\")\n",
        "else :\n",
        "  print(\"The variances are different (Reject Ho).\")"
      ],
      "metadata": {
        "colab": {
          "base_uri": "https://localhost:8080/"
        },
        "id": "eoHYjShSFyAB",
        "outputId": "2d2b7440-e641-45ff-f2fc-b0c8f454f955"
      },
      "execution_count": null,
      "outputs": [
        {
          "output_type": "stream",
          "name": "stdout",
          "text": [
            "p_value:  6.562221761213431e-13\n",
            "The variances are different (Reject Ho).\n"
          ]
        }
      ]
    },
    {
      "cell_type": "markdown",
      "source": [
        "**Since the variances are different, we cannot use ANOVA, We go with the Kruskal's test. The null and the alternate hypothesis are:**\n",
        "\n",
        "**Ho : The purchase amount of all the age groups is the same.**\n",
        "\n",
        "**Ha : The purchase amount of at least one age group is different.**"
      ],
      "metadata": {
        "id": "4JO4RnvHu2Rb"
      }
    },
    {
      "cell_type": "code",
      "source": [
        "k_stat, p_value = kruskal(df[df['Age'] == '0-17']['Purchase'],\n",
        "                         df[df['Age'] == '18-25']['Purchase'],\n",
        "                         df[df['Age'] == '26-35']['Purchase'],\n",
        "                         df[df['Age'] == '36-45']['Purchase'],\n",
        "                         df[df['Age'] == '46-50']['Purchase'],\n",
        "                         df[df['Age'] == '51-55']['Purchase'],\n",
        "                         df[df['Age'] == '55+']['Purchase'])\n",
        "\n",
        "print(\"p_value: \", p_value)\n",
        "\n",
        "alpha = 0.05\n",
        "\n",
        "if p_value > alpha :\n",
        "  print(\"The purchase amount of all the age groups is the same (Fail to reject Ho).\")\n",
        "else :\n",
        "  print(\"The purchase amount of at least one age group is different (Reject Ho).\")"
      ],
      "metadata": {
        "colab": {
          "base_uri": "https://localhost:8080/"
        },
        "id": "k2ljgShPFx9p",
        "outputId": "4b34493d-1cf5-42d3-b466-61a3c7f3fbb8"
      },
      "execution_count": null,
      "outputs": [
        {
          "output_type": "stream",
          "name": "stdout",
          "text": [
            "p_value:  3.612251655399266e-65\n",
            "The purchase amount of at least one age group is different (Reject Ho).\n"
          ]
        }
      ]
    },
    {
      "cell_type": "code",
      "source": [],
      "metadata": {
        "id": "bGUG_RmQFx2m"
      },
      "execution_count": null,
      "outputs": []
    }
  ],
  "metadata": {
    "colab": {
      "provenance": []
    },
    "kernelspec": {
      "display_name": "Python 3",
      "name": "python3"
    },
    "language_info": {
      "name": "python"
    }
  },
  "nbformat": 4,
  "nbformat_minor": 0
}